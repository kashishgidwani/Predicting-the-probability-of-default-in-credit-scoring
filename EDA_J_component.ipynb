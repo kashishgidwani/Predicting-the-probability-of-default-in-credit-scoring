{
  "nbformat": 4,
  "nbformat_minor": 0,
  "metadata": {
    "colab": {
      "provenance": [],
      "include_colab_link": true
    },
    "kernelspec": {
      "name": "python3",
      "display_name": "Python 3"
    },
    "language_info": {
      "name": "python"
    }
  },
  "cells": [
    {
      "cell_type": "markdown",
      "metadata": {
        "id": "view-in-github",
        "colab_type": "text"
      },
      "source": [
        "<a href=\"https://colab.research.google.com/github/kashishgidwani/Predicting-the-probability-of-default-in-credit-scoring/blob/main/EDA_J_component.ipynb\" target=\"_parent\"><img src=\"https://colab.research.google.com/assets/colab-badge.svg\" alt=\"Open In Colab\"/></a>"
      ]
    },
    {
      "cell_type": "markdown",
      "source": [
        "Pandas: Data analysis and manipulation,visualization,analysis and modeling\n",
        "\n",
        "NumPy: Powerful N-dimensional array object,tools for interating C/C++ and fortran code\n",
        "\n",
        "Matplotlib.pyplot: 2D plotting library which produces publication quality figures in a variety of hardcopy formats and interactive environments\n",
        "\n",
        "Seaborn: Built on top of Matplotlib and\n",
        "Provides a high-level interface for drawing attractive and informative statistical graphics\n",
        "\n",
        "Plotnine: Grammar of graphics for Python\n",
        "which Provides a consistent and easy-to-use interface for creating a wide variety of plots\n",
        "\n",
        "ggplot, aes, geom_violin, facet_wrap, theme_bw:\n",
        "\n",
        "ggplot is the main function in Plotnine for creating a plot.\n",
        "aes is used to map data to aesthetic attributes of the plot.\n",
        "geom_violin is used to create violin plots\n",
        "facet_wrap is used to create multiple plots, each with a different subset of the data.\n",
        "theme_bw is used to set the theme of the plot to black and white."
      ],
      "metadata": {
        "id": "19tCsEd9ovjn"
      }
    },
    {
      "cell_type": "code",
      "execution_count": 1,
      "metadata": {
        "id": "jvuhVbr92hXg"
      },
      "outputs": [],
      "source": [
        "import pandas as pd\n",
        "import numpy as np\n",
        "import matplotlib.pyplot as plt\n",
        "import seaborn as sns\n",
        "from plotnine import ggplot, aes, geom_violin, facet_wrap, theme_bw\n",
        "#(pandas,numpy,matplot,seaborn,plotnine,ggplot, aes, geom_violin, facet_wrap, theme_bw)\n",
        "#These are the libraries and packages to be performed"
      ]
    },
    {
      "cell_type": "code",
      "source": [
        "train = pd.read_csv('/cs-training.csv')\n",
        "#To read the file. File can be of any type,just mention the file type after the read statement."
      ],
      "metadata": {
        "id": "DidfzLjc23lk"
      },
      "execution_count": 3,
      "outputs": []
    },
    {
      "cell_type": "code",
      "source": [
        "train.isna().sum()\n"
      ],
      "metadata": {
        "colab": {
          "base_uri": "https://localhost:8080/"
        },
        "id": "kQjB3lvDjqDE",
        "outputId": "7edeba65-2ae9-4d0d-fef1-5573af825d4d"
      },
      "execution_count": 4,
      "outputs": [
        {
          "output_type": "execute_result",
          "data": {
            "text/plain": [
              "Unnamed: 0                                  0\n",
              "SeriousDlqin2yrs                            0\n",
              "RevolvingUtilizationOfUnsecuredLines        0\n",
              "age                                         0\n",
              "NumberOfTime30-59DaysPastDueNotWorse        0\n",
              "DebtRatio                                   0\n",
              "MonthlyIncome                           29731\n",
              "NumberOfOpenCreditLinesAndLoans             0\n",
              "NumberOfTimes90DaysLate                     0\n",
              "NumberRealEstateLoansOrLines                0\n",
              "NumberOfTime60-89DaysPastDueNotWorse        0\n",
              "NumberOfDependents                       3924\n",
              "dtype: int64"
            ]
          },
          "metadata": {},
          "execution_count": 4
        }
      ]
    },
    {
      "cell_type": "code",
      "source": [
        "from sklearn.experimental import enable_iterative_imputer\n",
        "from sklearn.impute import IterativeImputer\n",
        "\n",
        "# Select the columns to impute\n",
        "cols_to_impute = ['MonthlyIncome', 'NumberOfDependents']\n",
        "\n",
        "# Create an instance of IterativeImputer\n",
        "imputer = IterativeImputer(max_iter=10, random_state=42)\n",
        "\n",
        "# Fit and transform the data\n",
        "imputed_data = imputer.fit_transform(train[cols_to_impute])\n",
        "\n",
        "# Convert the imputed data back to a dataframe\n",
        "imputed_df = pd.DataFrame(imputed_data, columns=cols_to_impute)\n",
        "\n",
        "# Replace the original columns with the imputed data\n",
        "train[cols_to_impute] = imputed_df"
      ],
      "metadata": {
        "id": "vjgopb-dHHDQ"
      },
      "execution_count": 5,
      "outputs": []
    },
    {
      "cell_type": "markdown",
      "source": [
        "astypr(int) to change the data type of a pandas Series or DataFrame column."
      ],
      "metadata": {
        "id": "ws9KgD5oti_8"
      }
    },
    {
      "cell_type": "code",
      "source": [
        "train['NumberOfDependents'] = train['NumberOfDependents'].astype(int)\n",
        "#converting the data type of the 'NumberOfDependents' column in the DataFrame 'train' to integer"
      ],
      "metadata": {
        "id": "Ni4sk6sMA6bb"
      },
      "execution_count": 6,
      "outputs": []
    },
    {
      "cell_type": "markdown",
      "source": [
        "drop() method is used to remove rows from a DataFrame based on their indices.\n",
        "\n",
        "inplace=True parameter ensures that the changes are made directly to the original DataFrame\n",
        "\n",
        "Note:Bank can Grant Loan To a Person who has Age Above 18,and usually perosn before his Retirementso adding a age restriction to data"
      ],
      "metadata": {
        "id": "33TusHeotMMq"
      }
    },
    {
      "cell_type": "code",
      "source": [
        "indexNames = train[train['age'] < 18].index\n",
        "#creates an index of rows where the 'age' column in the DataFrame 'train' is less than 18(boolean indexing is used)\n",
        "train.drop(index=indexNames , inplace=True)\n",
        "#drops the rows with the indices specified in the 'indexNames' variable from the DataFrame 'train'.\n",
        "indexNames = train[train['age'] > 60].index\n",
        "#creates an index of rows where the 'age' column in the DataFrame 'train' is greater than 60\n",
        "train.drop(index=indexNames , inplace=True)\n",
        "#drops the rows with the indices specified in the 'indexNames' variable from the DataFrame 'train', similar to the previous line\n"
      ],
      "metadata": {
        "id": "DJ0jskk93QFj"
      },
      "execution_count": 7,
      "outputs": []
    },
    {
      "cell_type": "markdown",
      "source": [
        "**Comparing Relationship of Output with each** **data** **column**\n",
        "\n"
      ],
      "metadata": {
        "id": "-shSPUXi5Grl"
      }
    },
    {
      "cell_type": "code",
      "source": [
        "plt.style.use(\"seaborn-whitegrid\")\n",
        "#sets the style of the plot to \"seaborn-whitegrid\" using use() function.\n",
        "plt.scatter(train['RevolvingUtilizationOfUnsecuredLines'], train['SeriousDlqin2yrs'])\n",
        "#creates a scatter plot using the 'RevolvingUtilizationOfUnsecuredLines' column as the x-axis values and the 'SeriousDlqin2yrs' column as the y-axis values\n",
        "#using scatter() function\n",
        "plt.xlabel('Revolving Utilization of Unsecured Lines')\n",
        "#sets the label for the x-axis of the plot to 'Revolving Utilization of Unsecured Lines' using the xlabel() function.\n",
        "plt.ylabel('SeriousDlqin2yrs')\n",
        "#sets the label for the y-axis of the plot to 'SeriousDlqin2yrs' using the ylabel() function.\n",
        "plt.title('Scatter Plot')\n",
        "#sets the title of the plot to 'Scatter Plot' using the title() function.\n",
        "plt.show()\n",
        "#displays the scatter plot on the screen"
      ],
      "metadata": {
        "colab": {
          "base_uri": "https://localhost:8080/",
          "height": 503
        },
        "id": "rfzoSvYW3f_y",
        "outputId": "62a22e1b-23b3-439f-f0a3-b209151c0a1d"
      },
      "execution_count": null,
      "outputs": [
        {
          "output_type": "stream",
          "name": "stderr",
          "text": [
            "<ipython-input-77-d36dae451935>:1: MatplotlibDeprecationWarning: The seaborn styles shipped by Matplotlib are deprecated since 3.6, as they no longer correspond to the styles shipped by seaborn. However, they will remain available as 'seaborn-v0_8-<style>'. Alternatively, directly use the seaborn API instead.\n"
          ]
        },
        {
          "output_type": "display_data",
          "data": {
            "text/plain": [
              "<Figure size 640x480 with 1 Axes>"
            ],
            "image/png": "[encoded data removed]"
          },
          "metadata": {}
        }
      ]
    },
    {
      "cell_type": "code",
      "source": [
        "plt.style.use(\"seaborn-whitegrid\")\n",
        "#sets the style of the plot to \"seaborn-whitegrid\" using use() function.\n",
        "plt.scatter(train['NumberOfTime30-59DaysPastDueNotWorse'], train['SeriousDlqin2yrs'])\n",
        "#creates a scatter plot using the 'NumberOfTime30-59DaysPastDueNotWorse' column as the x-axis values and the 'SeriousDlqin2yrs' column as the y-axis values from the DataFrame 'train'\n",
        "#using scatter() function.\n",
        "plt.xlabel('NumberOfTime30-59DaysPastDueNotWorse')\n",
        "#sets the label for the x-axis of the plot to 'NumberOfTime30-59DaysPastDueNotWorse' using the xlabel()\n",
        "plt.ylabel('SeriousDlqin2yrs')\n",
        "# sets the label for the y-axis of the plot to 'SeriousDlqin2yrs' using the ylabel() function\n",
        "plt.title('Scatter Plot')\n",
        "#sets the title of the plot to 'Scatter Plot' using the title() function.\n",
        "plt.show()\n",
        "#displays on the screen"
      ],
      "metadata": {
        "colab": {
          "base_uri": "https://localhost:8080/",
          "height": 503
        },
        "id": "nlgnC_c14AcO",
        "outputId": "237938cf-53c7-4ac9-9ffd-a3d26a49e33e"
      },
      "execution_count": null,
      "outputs": [
        {
          "output_type": "stream",
          "name": "stderr",
          "text": [
            "<ipython-input-21-80261816ab57>:1: MatplotlibDeprecationWarning: The seaborn styles shipped by Matplotlib are deprecated since 3.6, as they no longer correspond to the styles shipped by seaborn. However, they will remain available as 'seaborn-v0_8-<style>'. Alternatively, directly use the seaborn API instead.\n"
          ]
        },
        {
          "output_type": "display_data",
          "data": {
            "text/plain": [
              "<Figure size 640x480 with 1 Axes>"
            ],
            "image/png": "[encoded data removed]"
          },
          "metadata": {}
        }
      ]
    },
    {
      "cell_type": "code",
      "source": [
        "plt.style.use(\"seaborn-whitegrid\")\n",
        "plt.scatter(train['NumberOfTimes90DaysLate'], train['SeriousDlqin2yrs'])\n",
        "plt.xlabel('NumberOfTimes90DaysLate')\n",
        "plt.ylabel('SeriousDlqin2yrs')\n",
        "plt.title('Scatter Plot')\n",
        "plt.show()"
      ],
      "metadata": {
        "colab": {
          "base_uri": "https://localhost:8080/",
          "height": 503
        },
        "id": "b9IKXZgy4nOj",
        "outputId": "34a6eeef-d361-4591-a527-e33f40fbb8ee"
      },
      "execution_count": null,
      "outputs": [
        {
          "output_type": "stream",
          "name": "stderr",
          "text": [
            "<ipython-input-22-52b43abc8aee>:1: MatplotlibDeprecationWarning: The seaborn styles shipped by Matplotlib are deprecated since 3.6, as they no longer correspond to the styles shipped by seaborn. However, they will remain available as 'seaborn-v0_8-<style>'. Alternatively, directly use the seaborn API instead.\n"
          ]
        },
        {
          "output_type": "display_data",
          "data": {
            "text/plain": [
              "<Figure size 640x480 with 1 Axes>"
            ],
            "image/png": "[encoded data removed]"
          },
          "metadata": {}
        }
      ]
    },
    {
      "cell_type": "code",
      "source": [
        "plt.style.use(\"seaborn-whitegrid\")\n",
        "plt.scatter(train['NumberOfTime60-89DaysPastDueNotWorse'], train['SeriousDlqin2yrs'])\n",
        "plt.xlabel('NumberOfTime60-89DaysPastDueNotWorse')\n",
        "plt.ylabel('SeriousDlqin2yrs')\n",
        "plt.title('Scatter Plot')\n",
        "plt.show()"
      ],
      "metadata": {
        "colab": {
          "base_uri": "https://localhost:8080/",
          "height": 503
        },
        "id": "0rorz9e44n_O",
        "outputId": "681b8a05-13e9-4ffb-a09f-c1d566f90c30"
      },
      "execution_count": null,
      "outputs": [
        {
          "output_type": "stream",
          "name": "stderr",
          "text": [
            "<ipython-input-23-e5de493fa759>:1: MatplotlibDeprecationWarning: The seaborn styles shipped by Matplotlib are deprecated since 3.6, as they no longer correspond to the styles shipped by seaborn. However, they will remain available as 'seaborn-v0_8-<style>'. Alternatively, directly use the seaborn API instead.\n"
          ]
        },
        {
          "output_type": "display_data",
          "data": {
            "text/plain": [
              "<Figure size 640x480 with 1 Axes>"
            ],
            "image/png": "[encoded data removed]"
          },
          "metadata": {}
        }
      ]
    },
    {
      "cell_type": "code",
      "source": [
        "plt.style.use(\"seaborn-whitegrid\")\n",
        "plt.scatter(train['DebtRatio'], train['SeriousDlqin2yrs'])\n",
        "plt.xlabel('Debt Ratio')\n",
        "plt.ylabel('SeriousDlqin2yrs')\n",
        "plt.title('Scatter Plot')\n",
        "plt.show()"
      ],
      "metadata": {
        "colab": {
          "base_uri": "https://localhost:8080/",
          "height": 503
        },
        "id": "jyqAr1g-5LVP",
        "outputId": "e602d547-4685-4bc9-9231-6a1b9c54c68a"
      },
      "execution_count": null,
      "outputs": [
        {
          "output_type": "stream",
          "name": "stderr",
          "text": [
            "<ipython-input-24-cc5e073895a3>:1: MatplotlibDeprecationWarning: The seaborn styles shipped by Matplotlib are deprecated since 3.6, as they no longer correspond to the styles shipped by seaborn. However, they will remain available as 'seaborn-v0_8-<style>'. Alternatively, directly use the seaborn API instead.\n"
          ]
        },
        {
          "output_type": "display_data",
          "data": {
            "text/plain": [
              "<Figure size 640x480 with 1 Axes>"
            ],
            "image/png": "[encoded data removed]"
          },
          "metadata": {}
        }
      ]
    },
    {
      "cell_type": "code",
      "source": [
        "plt.style.use(\"seaborn-whitegrid\")\n",
        "plt.scatter(train['MonthlyIncome'], train['SeriousDlqin2yrs'])\n",
        "plt.xlabel('Monthly Income')\n",
        "plt.ylabel('SeriousDlqin2yrs')\n",
        "plt.title('Scatter Plot')\n",
        "plt.show()"
      ],
      "metadata": {
        "colab": {
          "base_uri": "https://localhost:8080/",
          "height": 503
        },
        "id": "9HZTJ0b75aRQ",
        "outputId": "ec2c4a79-7966-4665-c51c-3d9a724fec80"
      },
      "execution_count": null,
      "outputs": [
        {
          "output_type": "stream",
          "name": "stderr",
          "text": [
            "<ipython-input-25-b80734345e31>:1: MatplotlibDeprecationWarning: The seaborn styles shipped by Matplotlib are deprecated since 3.6, as they no longer correspond to the styles shipped by seaborn. However, they will remain available as 'seaborn-v0_8-<style>'. Alternatively, directly use the seaborn API instead.\n"
          ]
        },
        {
          "output_type": "display_data",
          "data": {
            "text/plain": [
              "<Figure size 640x480 with 1 Axes>"
            ],
            "image/png": "[encoded data removed]"
          },
          "metadata": {}
        }
      ]
    },
    {
      "cell_type": "markdown",
      "source": [
        "There is a concentration of data points around the 4k-8K monthly income range. This suggests that majority of the individuals in this sample have a monthly income between 4k and 8k. Additionally, based on the target variable (SeriousDlqin2yrs), it can be observed that most individuals did not experience serious delinquency in two years.\n",
        "\n",
        "This is derived from the visual pattern in the scatter plot, where the majority of data points are clustered around a specific income range, and there are relatively fewer data points indicating serious delinquency. It implies that there is a potential correlation between monthly income and the likelihood of serious delinquency, with higher incomes associated with a lower risk of delinquency"
      ],
      "metadata": {
        "id": "iqvMNHo_BMav"
      }
    },
    {
      "cell_type": "code",
      "source": [
        "plt.style.use(\"seaborn-whitegrid\")\n",
        "plt.scatter(train['NumberOfOpenCreditLinesAndLoans'], train['SeriousDlqin2yrs'])\n",
        "plt.xlabel('NumberOfOpenCreditLinesAndLoans')\n",
        "plt.ylabel('SeriousDlqin2yrs')\n",
        "plt.title('Scatter Plot')\n",
        "plt.show()"
      ],
      "metadata": {
        "colab": {
          "base_uri": "https://localhost:8080/",
          "height": 503
        },
        "id": "clkgaqtV5iOX",
        "outputId": "ce7e34fe-2373-4125-9e00-03ce441a120c"
      },
      "execution_count": null,
      "outputs": [
        {
          "output_type": "stream",
          "name": "stderr",
          "text": [
            "<ipython-input-26-142f155b2511>:1: MatplotlibDeprecationWarning: The seaborn styles shipped by Matplotlib are deprecated since 3.6, as they no longer correspond to the styles shipped by seaborn. However, they will remain available as 'seaborn-v0_8-<style>'. Alternatively, directly use the seaborn API instead.\n"
          ]
        },
        {
          "output_type": "display_data",
          "data": {
            "text/plain": [
              "<Figure size 640x480 with 1 Axes>"
            ],
            "image/png": "[encoded data removed]"
          },
          "metadata": {}
        }
      ]
    },
    {
      "cell_type": "code",
      "source": [
        "plt.style.use(\"seaborn-whitegrid\")\n",
        "plt.scatter(train['NumberRealEstateLoansOrLines'], train['SeriousDlqin2yrs'])\n",
        "plt.xlabel('NumberRealEstateLoansOrLines')\n",
        "plt.ylabel('SeriousDlqin2yrs')\n",
        "plt.title('Scatter Plot')\n",
        "plt.show()"
      ],
      "metadata": {
        "colab": {
          "base_uri": "https://localhost:8080/",
          "height": 503
        },
        "id": "HEIsCrUY5ow2",
        "outputId": "797e8b3b-67c8-49c6-f254-d5ef7ba1c94e"
      },
      "execution_count": null,
      "outputs": [
        {
          "output_type": "stream",
          "name": "stderr",
          "text": [
            "<ipython-input-27-d15204b17d13>:1: MatplotlibDeprecationWarning: The seaborn styles shipped by Matplotlib are deprecated since 3.6, as they no longer correspond to the styles shipped by seaborn. However, they will remain available as 'seaborn-v0_8-<style>'. Alternatively, directly use the seaborn API instead.\n"
          ]
        },
        {
          "output_type": "display_data",
          "data": {
            "text/plain": [
              "<Figure size 640x480 with 1 Axes>"
            ],
            "image/png": "[encoded data removed]"
          },
          "metadata": {}
        }
      ]
    },
    {
      "cell_type": "code",
      "source": [
        "plt.style.use(\"seaborn-whitegrid\")\n",
        "plt.scatter(train['NumberOfDependents'], train['SeriousDlqin2yrs'])\n",
        "plt.xlabel('Number Of Dependents')\n",
        "plt.ylabel('SeriousDlqin2yrs')\n",
        "plt.title('Scatter Plot')\n",
        "plt.show()"
      ],
      "metadata": {
        "colab": {
          "base_uri": "https://localhost:8080/",
          "height": 503
        },
        "id": "JFpECS155tR5",
        "outputId": "52db15eb-d811-4522-ac57-099516592c31"
      },
      "execution_count": null,
      "outputs": [
        {
          "output_type": "stream",
          "name": "stderr",
          "text": [
            "<ipython-input-28-552dabd8c974>:1: MatplotlibDeprecationWarning: The seaborn styles shipped by Matplotlib are deprecated since 3.6, as they no longer correspond to the styles shipped by seaborn. However, they will remain available as 'seaborn-v0_8-<style>'. Alternatively, directly use the seaborn API instead.\n"
          ]
        },
        {
          "output_type": "display_data",
          "data": {
            "text/plain": [
              "<Figure size 640x480 with 1 Axes>"
            ],
            "image/png": "[encoded data removed]"
          },
          "metadata": {}
        }
      ]
    },
    {
      "cell_type": "code",
      "source": [
        "colors = ['#3498db', '#e74c3c']\n",
        "plt.figure(figsize=(10, 7))\n",
        "plt.bar(train['SeriousDlqin2yrs'].value_counts().index, train['SeriousDlqin2yrs'].value_counts().values,color=colors)\n",
        "plt.xlabel('SeriousDlqin2yrs')\n",
        "plt.ylabel('Count')\n",
        "plt.title('Count Plot')\n",
        "plt.show()"
      ],
      "metadata": {
        "colab": {
          "base_uri": "https://localhost:8080/",
          "height": 634
        },
        "id": "0bPpqcbb6NQz",
        "outputId": "8f337d20-0071-4710-947b-c48951367f67"
      },
      "execution_count": null,
      "outputs": [
        {
          "output_type": "display_data",
          "data": {
            "text/plain": [
              "<Figure size 1000x700 with 1 Axes>"
            ],
            "image/png": "[encoded data removed]"
          },
          "metadata": {}
        }
      ]
    },
    {
      "cell_type": "markdown",
      "source": [
        "A correlation heatmap by visualizing the correlation matrix of the 'train' DataFrame. The heatmap provides a visual representation of the correlation values between different columns, with darker shades indicating stronger positive correlation and lighter shades indicating weaker or negative correlation."
      ],
      "metadata": {
        "id": "UxeVJu9OzbzL"
      }
    },
    {
      "cell_type": "code",
      "source": [
        "#CFS(correlation based feauture slelection) taking SeriousDlqin2yrs as target variable\n",
        "\n",
        "from sklearn.feature_selection import SelectKBest\n",
        "from sklearn.feature_selection import f_regression\n",
        "from scipy.stats import ttest_ind\n",
        "\n",
        "\n",
        "# Define the target variable\n",
        "target = 'SeriousDlqin2yrs'\n",
        "\n",
        "# Select the features\n",
        "X = train.drop(target, axis=1)\n",
        "y = train[target]\n",
        "\n",
        "# Perform CFS\n",
        "selector = SelectKBest(f_regression, k=3)\n",
        "X_selected = selector.fit_transform(X, y)\n",
        "\n",
        "# Get the names of the selected features\n",
        "selected_features = X.columns[selector.get_support()]\n",
        "\n",
        "# Print the 3 most related features\n",
        "print(\"3 most related features:\", selected_features)\n",
        "\n",
        "# Perform t-test on the selected features\n",
        "for feature in selected_features:\n",
        "  # Split the data based on the target variable\n",
        "  X1 = X[y == 0][feature]\n",
        "  X2 = X[y == 1][feature]\n",
        "\n",
        "  # Perform the t-test\n",
        "  t_statistic, p_value = ttest_ind(X1, X2)\n",
        "\n",
        "  # Print the results\n",
        "  print(f\"T-test for feature '{feature}':\")\n",
        "  print(f\"t-statistic: {t_statistic:.4f}\")\n",
        "  print(f\"p-value: {p_value:.4f}\")\n",
        "\n"
      ],
      "metadata": {
        "colab": {
          "base_uri": "https://localhost:8080/"
        },
        "id": "UqnzEdY-MY37",
        "outputId": "6e0ee5e9-5f4e-42a8-982d-dc2794ed0658"
      },
      "execution_count": 8,
      "outputs": [
        {
          "output_type": "stream",
          "name": "stdout",
          "text": [
            "3 most related features: Index(['NumberOfTime30-59DaysPastDueNotWorse', 'NumberOfTimes90DaysLate',\n",
            "       'NumberOfTime60-89DaysPastDueNotWorse'],\n",
            "      dtype='object')\n",
            "T-test for feature 'NumberOfTime30-59DaysPastDueNotWorse':\n",
            "t-statistic: -39.8528\n",
            "p-value: 0.0000\n",
            "T-test for feature 'NumberOfTimes90DaysLate':\n",
            "t-statistic: -37.8260\n",
            "p-value: 0.0000\n",
            "T-test for feature 'NumberOfTime60-89DaysPastDueNotWorse':\n",
            "t-statistic: -33.0272\n",
            "p-value: 0.0000\n"
          ]
        }
      ]
    },
    {
      "cell_type": "markdown",
      "source": [
        "The correlation between the variables NumberOfTime30-59DaysPastDueNotWorse, NumberOfTime60-89DaysPastDueNotWorse, and NumberOfTimes90DaysLate with the response variable SeriousDlqin2yrs suggests that these variables are important indicators of the likelihood of experiencing serious delinquency in the next two years. These variables likely represent the number of times an individual has been past due on their payments within specific time ranges, indicating a history of payment difficulties. A higher value in these variables suggests a higher risk of serious delinquency.\n",
        "\n",
        "\n"
      ],
      "metadata": {
        "id": "A_743qltBlJC"
      }
    },
    {
      "cell_type": "code",
      "source": [
        "\n",
        "# Compute correlation matrix\n",
        "corr_matrix = train.corr()\n",
        "\n",
        "# Plot heatmap\n",
        "plt.figure(figsize=(10, 8))\n",
        "sns.heatmap(corr_matrix, annot=True, cmap='coolwarm', fmt=\".2f\", linewidths=0.5)\n",
        "plt.title('Correlation Heatmap for Credit Scoring')\n",
        "plt.show()\n",
        "\n"
      ],
      "metadata": {
        "colab": {
          "base_uri": "https://localhost:8080/",
          "height": 795
        },
        "id": "4fsh3PzlMIEe",
        "outputId": "01d5591d-b18e-4784-d2d2-a034f9d941f7"
      },
      "execution_count": 9,
      "outputs": [
        {
          "output_type": "display_data",
          "data": {
            "text/plain": [
              "<Figure size 1000x800 with 2 Axes>"
            ],
            "image/png": "[encoded data removed]"
          },
          "metadata": {}
        }
      ]
    },
    {
      "cell_type": "code",
      "source": [
        "train = train[['NumberOfTime30-59DaysPastDueNotWorse', 'NumberOfTime60-89DaysPastDueNotWorse', 'NumberOfTimes90DaysLate', 'SeriousDlqin2yrs']]\n"
      ],
      "metadata": {
        "id": "z7vlbiX17RzY"
      },
      "execution_count": 10,
      "outputs": []
    },
    {
      "cell_type": "markdown",
      "source": [
        "####Removing rows with outlier values to make the model more accurate\n"
      ],
      "metadata": {
        "id": "hyNSJP73FE7a"
      }
    },
    {
      "cell_type": "code",
      "source": [
        "import pandas as pd\n",
        "import numpy as np\n",
        "from sklearn.cluster import DBSCAN\n",
        "\n",
        "# Adjust the chunksize as per your system's memory capacity\n",
        "chunksize = 10000\n",
        "\n",
        "# Initialize an empty list to store the chunks\n",
        "chunks = []\n",
        "\n",
        "# Iterate over the DataFrame in chunks\n",
        "for i in range(0, len(train), chunksize):\n",
        "    chunk = train.iloc[i:i+chunksize, :]\n",
        "\n",
        "    # Select the relevant columns and convert to numpy array\n",
        "    X = chunk[['NumberOfTime30-59DaysPastDueNotWorse', 'SeriousDlqin2yrs']].values\n",
        "\n",
        "    # Fit the DBSCAN model\n",
        "    db = DBSCAN(eps=0.5, min_samples=10).fit(X)\n",
        "    labels = db.labels_\n",
        "\n",
        "    # Get the indices of the inlier points\n",
        "    inlier_index = np.where(labels != -1)[0]\n",
        "\n",
        "    # Append the inlier rows to the chunks list\n",
        "    chunks.append(chunk.iloc[inlier_index, :])\n",
        "\n",
        "# Concatenate the chunks into a single DataFrame\n",
        "train_cleaned = pd.concat(chunks, ignore_index=True)"
      ],
      "metadata": {
        "id": "kPBuT0iSA0Vu"
      },
      "execution_count": 11,
      "outputs": []
    },
    {
      "cell_type": "code",
      "source": [
        "chunksize = 10000\n",
        "chunks = []\n",
        "\n",
        "# Iterate over the DataFrame in chunks\n",
        "for i in range(0, len(train), chunksize):\n",
        "    chunk = train.iloc[i:i+chunksize, :]\n",
        "\n",
        "    # Select the relevant columns and convert to numpy array\n",
        "    X = chunk[['NumberOfTime60-89DaysPastDueNotWorse', 'SeriousDlqin2yrs']].values\n",
        "\n",
        "    # Fit the DBSCAN model\n",
        "    db = DBSCAN(eps=0.5, min_samples=10).fit(X)\n",
        "    labels = db.labels_\n",
        "\n",
        "    # Get the indices of the inlier points\n",
        "    inlier_index = np.where(labels != -1)[0]\n",
        "\n",
        "    # Append the inlier rows to the chunks list\n",
        "    chunks.append(chunk.iloc[inlier_index, :])\n",
        "\n",
        "# Concatenate the chunks into a single DataFrame\n",
        "train_cleaned = pd.concat(chunks, ignore_index=True)"
      ],
      "metadata": {
        "id": "pgUMj4tzEhoj"
      },
      "execution_count": 12,
      "outputs": []
    },
    {
      "cell_type": "code",
      "source": [
        "chunksize = 10000\n",
        "chunks = []\n",
        "\n",
        "# Iterate over the DataFrame in chunks\n",
        "for i in range(0, len(train), chunksize):\n",
        "    chunk = train.iloc[i:i+chunksize, :]\n",
        "\n",
        "    # Select the relevant columns and convert to numpy array\n",
        "    X = chunk[['NumberOfTimes90DaysLate', 'SeriousDlqin2yrs']].values\n",
        "\n",
        "    # Fit the DBSCAN model\n",
        "    db = DBSCAN(eps=0.5, min_samples=10).fit(X)\n",
        "    labels = db.labels_\n",
        "\n",
        "    # Get the indices of the inlier points\n",
        "    inlier_index = np.where(labels != -1)[0]\n",
        "\n",
        "    # Append the inlier rows to the chunks list\n",
        "    chunks.append(chunk.iloc[inlier_index, :])\n",
        "\n",
        "# Concatenate the chunks into a single DataFrame\n",
        "train_cleaned = pd.concat(chunks, ignore_index=True)"
      ],
      "metadata": {
        "id": "GMXj1WAME6Ts"
      },
      "execution_count": 13,
      "outputs": []
    },
    {
      "cell_type": "markdown",
      "source": [],
      "metadata": {
        "id": "XQQEmXxWfel9"
      }
    },
    {
      "cell_type": "markdown",
      "source": [
        "#Model Selection\n"
      ],
      "metadata": {
        "id": "yVijOTCX7uIz"
      }
    },
    {
      "cell_type": "code",
      "source": [
        "from sklearn.model_selection import train_test_split\n",
        "#imports the train_test_split function from the sklearn.model_selection module."
      ],
      "metadata": {
        "id": "MDOAL1TE7wO7"
      },
      "execution_count": 14,
      "outputs": []
    },
    {
      "cell_type": "code",
      "source": [
        "X = train.drop('SeriousDlqin2yrs', axis=1)\n",
        "#creates a new DataFrame X by dropping the column 'SeriousDlqin2yrs' from the original DataFrame train\n",
        "Y = train['SeriousDlqin2yrs']\n",
        "#creates a new Series Y by selecting only the column 'SeriousDlqin2yrs' from the original DataFrame train\n",
        "\n",
        "X_train, X_test, y_train, y_test = train_test_split(X,Y,test_size=0.30,random_state=101)\n",
        "#uses the train_test_split function to split the data into training and testing subsets. It assigns the training features to X_train,\n",
        "#testing features to X_test, training target variable to y_train, and testing target variable to y_test"
      ],
      "metadata": {
        "id": "q1JviurT706b"
      },
      "execution_count": 15,
      "outputs": []
    },
    {
      "cell_type": "code",
      "source": [
        "# Model Selection packages\n",
        "from sklearn import model_selection\n",
        "#Import the model_selection module from scikit-learn, which provides functions for model selection and evaluation\n",
        "from sklearn.pipeline import Pipeline\n",
        "#Import the Pipeline class from scikit-learn, which allows you to create a pipeline of data preprocessing and model training steps\n",
        "\n",
        "# Data Scaling Packages\n",
        "from sklearn.preprocessing import StandardScaler\n",
        "# Import the StandardScaler class from scikit-learn, which is used for data scaling.\n",
        "from sklearn.preprocessing import MinMaxScaler\n",
        "#Import the MinMaxScaler class from scikit-learn, which is also used for data scaling.\n",
        "\n",
        "#Classification Algorithms\n",
        "from sklearn.linear_model import LogisticRegression\n",
        "# Import the LogisticRegression class from scikit-learn, which is a classification algorithm.\n",
        "from sklearn.ensemble import RandomForestClassifier\n",
        "# Import the RandomForestClassifier class from scikit-learn, which is another classification algorithm\n",
        "from sklearn.tree import DecisionTreeClassifier\n",
        "#Import the DecisionTreeClassifier class from scikit-learn, which is a classification algorithm.\n",
        "from sklearn.neighbors import KNeighborsClassifier\n",
        "# Import the KNeighborsClassifier class from scikit-learn, which is a classification algorithm.\n",
        "from sklearn.discriminant_analysis import LinearDiscriminantAnalysis\n",
        "#Import the LinearDiscriminantAnalysis class from scikit-learn, which is a classification algorithm\n",
        "from sklearn.naive_bayes import GaussianNB\n",
        "#Import the GaussianNB class from scikit-learn, which is a classification algorithm.\n",
        "\n",
        "# Accuracy Testing Packages\n",
        "from sklearn.metrics import accuracy_score\n",
        "#Import the accuracy_score function from scikit-learn, which is used to calculate the accuracy of a model\n",
        "from sklearn.model_selection import GridSearchCV\n",
        "#Import the GridSearchCV class from scikit-learn, which is used for hyperparameter tuning.\n",
        "from sklearn.metrics import classification_report\n",
        "# Import the classification_report function from scikit-learn, which generates a classification report for a model.\n",
        "from sklearn.metrics import confusion_matrix\n",
        "#Import the confusion_matrix function from scikit-learn, which generates a confusion matrix for a model."
      ],
      "metadata": {
        "id": "JLUL99-s7_lN"
      },
      "execution_count": 16,
      "outputs": []
    },
    {
      "cell_type": "markdown",
      "source": [
        "##**K-Fold Cross Validation**\n",
        "\n",
        "In K-Fold Cross Validation, we split the dataset into k number of subsets (known as folds) then we perform training on the all the subsets but leave one(k-1) subset for the evaluation of the trained model. In this method, we iterate k times with a different subset reserved for testing purpose each time.\n",
        "\n",
        "####**Advantages of train/test split:**\n",
        "\n",
        "1.   This runs K times faster than Leave One Out cross-validation because K-fold cross-validation repeats the train/test split K-times.\n",
        "2.   Simpler to examine the detailed results of the testing process.\n",
        "\n",
        "\n",
        "\n",
        "\n",
        "####**Advantages of cross-validation:**\n",
        "\n",
        "\n",
        "1.   More accurate estimate of out-of-sample accuracy.\n",
        "2.  More “efficient” use of data as every observation is used for both training and testing.\n",
        "\n",
        "\n"
      ],
      "metadata": {
        "id": "hvO3MXb-mDvx"
      }
    },
    {
      "cell_type": "code",
      "source": [
        "models = []\n",
        "#Create an empty list called models to store the names and instances of classification algorithms.\n",
        "models.append(('LR', LogisticRegression()))\n",
        "models.append(('RFC', RandomForestClassifier()))\n",
        "models.append(('LDA', LinearDiscriminantAnalysis()))\n",
        "models.append(('KNN', KNeighborsClassifier()))\n",
        "models.append(('CART', DecisionTreeClassifier()))\n",
        "models.append(('NB', GaussianNB()))\n",
        "#Add a tuple to the models list, where the elements are the name 'LR' 'RFC' 'LDA' 'KNN' 'CART' 'NB'\n",
        "\n",
        "results = []\n",
        "#Create an empty list called results to store the results of cross-validation.\n",
        "names = []\n",
        "#Create an empty list called names to store the names of the classification algorithms\n",
        "n_splits = 6\n",
        "#Set the number of splits for cross-validation to 6\n",
        "\n",
        "for name, model in models: #Iterate over the models list, unpacking each tuple into name and model.\n",
        "    kfold = model_selection.KFold(n_splits=n_splits, shuffle=True, \\\n",
        "                                  random_state=6)\n",
        "    # Create a KFold object with the specified number of splits, shuffling the data, and setting the random state.\n",
        "    cv_results = model_selection.cross_val_score(model, X_train, \\\n",
        "                                                 y_train, cv=kfold, \\\n",
        "                                                 scoring='accuracy')\n",
        "    results.append(cv_results) # Add the cross-validation results to the results list.\n",
        "    names.append(name) #Add the name of the classification algorithm to the names list.\n",
        "    msg = \"%s: %6.2f (%6.2f)\" % (name, cv_results.mean()*100, \\\n",
        "                           cv_results.std()*100)\n",
        "    #Create a message string that includes the name of the algorithm, the mean accuracy of the cross-validation results, and the standard deviation of the accuracy.\n",
        "    print(msg)\n",
        "    #Print the message to the console."
      ],
      "metadata": {
        "colab": {
          "base_uri": "https://localhost:8080/"
        },
        "id": "t92m3vni8CfK",
        "outputId": "16fa138e-039c-4174-eb6c-92f6d36cc8ca"
      },
      "execution_count": 17,
      "outputs": [
        {
          "output_type": "stream",
          "name": "stdout",
          "text": [
            "LR:  91.84 (  0.16)\n",
            "RFC:  91.94 (  0.20)\n",
            "LDA:  91.87 (  0.17)\n",
            "KNN:  91.36 (  0.43)\n",
            "CART:  91.92 (  0.18)\n",
            "NB:  91.76 (  0.12)\n"
          ]
        }
      ]
    },
    {
      "cell_type": "code",
      "source": [
        "results_df = pd.DataFrame(results, index=names,columns='CV1 CV2 CV3 CV4 CV5 CV6'.split())\n",
        "#Create a pandas DataFrame called results_df using the results list as the data,\n",
        "#names list as the index, and the column names as 'CV1', 'CV2', 'CV3', 'CV4', 'CV5', and 'CV6'.\n",
        "results_df\n",
        "#prints the results"
      ],
      "metadata": {
        "colab": {
          "base_uri": "https://localhost:8080/",
          "height": 238
        },
        "id": "zAzgabyn8Kqp",
        "outputId": "0c0d9531-942b-4146-8001-e5217ec20958"
      },
      "execution_count": 18,
      "outputs": [
        {
          "output_type": "execute_result",
          "data": {
            "text/plain": [
              "           CV1       CV2       CV3       CV4       CV5       CV6\n",
              "LR    0.919056  0.921343  0.918647  0.916360  0.917177  0.917742\n",
              "RFC   0.921261  0.921588  0.921179  0.916360  0.918566  0.917742\n",
              "LDA   0.920771  0.920853  0.919383  0.916605  0.917422  0.917252\n",
              "KNN   0.920444  0.907621  0.909418  0.913338  0.917095  0.913903\n",
              "CART  0.920689  0.921179  0.920608  0.916115  0.918974  0.917906\n",
              "NB    0.917504  0.919873  0.918076  0.915707  0.917014  0.917579"
            ],
            "text/html": [
              "\n",
              "  <div id=\"df-519898a4-3de8-48d8-9108-10addf0c4fd6\" class=\"colab-df-container\">\n",
              "    <div>\n",
              "<style scoped>\n",
              "    .dataframe tbody tr th:only-of-type {\n",
              "        vertical-align: middle;\n",
              "    }\n",
              "\n",
              "    .dataframe tbody tr th {\n",
              "        vertical-align: top;\n",
              "    }\n",
              "\n",
              "    .dataframe thead th {\n",
              "        text-align: right;\n",
              "    }\n",
              "</style>\n",
              "<table border=\"1\" class=\"dataframe\">\n",
              "  <thead>\n",
              "    <tr style=\"text-align: right;\">\n",
              "      <th></th>\n",
              "      <th>CV1</th>\n",
              "      <th>CV2</th>\n",
              "      <th>CV3</th>\n",
              "      <th>CV4</th>\n",
              "      <th>CV5</th>\n",
              "      <th>CV6</th>\n",
              "    </tr>\n",
              "  </thead>\n",
              "  <tbody>\n",
              "    <tr>\n",
              "      <th>LR</th>\n",
              "      <td>0.919056</td>\n",
              "      <td>0.921343</td>\n",
              "      <td>0.918647</td>\n",
              "      <td>0.916360</td>\n",
              "      <td>0.917177</td>\n",
              "      <td>0.917742</td>\n",
              "    </tr>\n",
              "    <tr>\n",
              "      <th>RFC</th>\n",
              "      <td>0.921261</td>\n",
              "      <td>0.921588</td>\n",
              "      <td>0.921179</td>\n",
              "      <td>0.916360</td>\n",
              "      <td>0.918566</td>\n",
              "      <td>0.917742</td>\n",
              "    </tr>\n",
              "    <tr>\n",
              "      <th>LDA</th>\n",
              "      <td>0.920771</td>\n",
              "      <td>0.920853</td>\n",
              "      <td>0.919383</td>\n",
              "      <td>0.916605</td>\n",
              "      <td>0.917422</td>\n",
              "      <td>0.917252</td>\n",
              "    </tr>\n",
              "    <tr>\n",
              "      <th>KNN</th>\n",
              "      <td>0.920444</td>\n",
              "      <td>0.907621</td>\n",
              "      <td>0.909418</td>\n",
              "      <td>0.913338</td>\n",
              "      <td>0.917095</td>\n",
              "      <td>0.913903</td>\n",
              "    </tr>\n",
              "    <tr>\n",
              "      <th>CART</th>\n",
              "      <td>0.920689</td>\n",
              "      <td>0.921179</td>\n",
              "      <td>0.920608</td>\n",
              "      <td>0.916115</td>\n",
              "      <td>0.918974</td>\n",
              "      <td>0.917906</td>\n",
              "    </tr>\n",
              "    <tr>\n",
              "      <th>NB</th>\n",
              "      <td>0.917504</td>\n",
              "      <td>0.919873</td>\n",
              "      <td>0.918076</td>\n",
              "      <td>0.915707</td>\n",
              "      <td>0.917014</td>\n",
              "      <td>0.917579</td>\n",
              "    </tr>\n",
              "  </tbody>\n",
              "</table>\n",
              "</div>\n",
              "    <div class=\"colab-df-buttons\">\n",
              "\n",
              "  <div class=\"colab-df-container\">\n",
              "    <button class=\"colab-df-convert\" onclick=\"convertToInteractive('df-519898a4-3de8-48d8-9108-10addf0c4fd6')\"\n",
              "            title=\"Convert this dataframe to an interactive table.\"\n",
              "            style=\"display:none;\">\n",
              "\n",
              "  <svg xmlns=\"http://www.w3.org/2000/svg\" height=\"24px\" viewBox=\"0 -960 960 960\">\n",
              "    <path d=\"M120-120v-720h720v720H120Zm60-500h600v-160H180v160Zm220 220h160v-160H400v160Zm0 220h160v-160H400v160ZM180-400h160v-160H180v160Zm440 0h160v-160H620v160ZM180-180h160v-160H180v160Zm440 0h160v-160H620v160Z\"/>\n",
              "  </svg>\n",
              "    </button>\n",
              "\n",
              "  <style>\n",
              "    .colab-df-container {\n",
              "      display:flex;\n",
              "      gap: 12px;\n",
              "    }\n",
              "\n",
              "    .colab-df-convert {\n",
              "      background-color: #E8F0FE;\n",
              "      border: none;\n",
              "      border-radius: 50%;\n",
              "      cursor: pointer;\n",
              "      display: none;\n",
              "      fill: #1967D2;\n",
              "      height: 32px;\n",
              "      padding: 0 0 0 0;\n",
              "      width: 32px;\n",
              "    }\n",
              "\n",
              "    .colab-df-convert:hover {\n",
              "      background-color: #E2EBFA;\n",
              "      box-shadow: 0px 1px 2px rgba(60, 64, 67, 0.3), 0px 1px 3px 1px rgba(60, 64, 67, 0.15);\n",
              "      fill: #174EA6;\n",
              "    }\n",
              "\n",
              "    .colab-df-buttons div {\n",
              "      margin-bottom: 4px;\n",
              "    }\n",
              "\n",
              "    [theme=dark] .colab-df-convert {\n",
              "      background-color: #3B4455;\n",
              "      fill: #D2E3FC;\n",
              "    }\n",
              "\n",
              "    [theme=dark] .colab-df-convert:hover {\n",
              "      background-color: #434B5C;\n",
              "      box-shadow: 0px 1px 3px 1px rgba(0, 0, 0, 0.15);\n",
              "      filter: drop-shadow(0px 1px 2px rgba(0, 0, 0, 0.3));\n",
              "      fill: #FFFFFF;\n",
              "    }\n",
              "  </style>\n",
              "\n",
              "    <script>\n",
              "      const buttonEl =\n",
              "        document.querySelector('#df-519898a4-3de8-48d8-9108-10addf0c4fd6 button.colab-df-convert');\n",
              "      buttonEl.style.display =\n",
              "        google.colab.kernel.accessAllowed ? 'block' : 'none';\n",
              "\n",
              "      async function convertToInteractive(key) {\n",
              "        const element = document.querySelector('#df-519898a4-3de8-48d8-9108-10addf0c4fd6');\n",
              "        const dataTable =\n",
              "          await google.colab.kernel.invokeFunction('convertToInteractive',\n",
              "                                                    [key], {});\n",
              "        if (!dataTable) return;\n",
              "\n",
              "        const docLinkHtml = 'Like what you see? Visit the ' +\n",
              "          '<a target=\"_blank\" href=https://colab.research.google.com/notebooks/data_table.ipynb>data table notebook</a>'\n",
              "          + ' to learn more about interactive tables.';\n",
              "        element.innerHTML = '';\n",
              "        dataTable['output_type'] = 'display_data';\n",
              "        await google.colab.output.renderOutput(dataTable, element);\n",
              "        const docLink = document.createElement('div');\n",
              "        docLink.innerHTML = docLinkHtml;\n",
              "        element.appendChild(docLink);\n",
              "      }\n",
              "    </script>\n",
              "  </div>\n",
              "\n",
              "\n",
              "<div id=\"df-715a4a66-e66b-41ed-beac-eee9f97ac86c\">\n",
              "  <button class=\"colab-df-quickchart\" onclick=\"quickchart('df-715a4a66-e66b-41ed-beac-eee9f97ac86c')\"\n",
              "            title=\"Suggest charts\"\n",
              "            style=\"display:none;\">\n",
              "\n",
              "<svg xmlns=\"http://www.w3.org/2000/svg\" height=\"24px\"viewBox=\"0 0 24 24\"\n",
              "     width=\"24px\">\n",
              "    <g>\n",
              "        <path d=\"M19 3H5c-1.1 0-2 .9-2 2v14c0 1.1.9 2 2 2h14c1.1 0 2-.9 2-2V5c0-1.1-.9-2-2-2zM9 17H7v-7h2v7zm4 0h-2V7h2v10zm4 0h-2v-4h2v4z\"/>\n",
              "    </g>\n",
              "</svg>\n",
              "  </button>\n",
              "\n",
              "<style>\n",
              "  .colab-df-quickchart {\n",
              "      --bg-color: #E8F0FE;\n",
              "      --fill-color: #1967D2;\n",
              "      --hover-bg-color: #E2EBFA;\n",
              "      --hover-fill-color: #174EA6;\n",
              "      --disabled-fill-color: #AAA;\n",
              "      --disabled-bg-color: #DDD;\n",
              "  }\n",
              "\n",
              "  [theme=dark] .colab-df-quickchart {\n",
              "      --bg-color: #3B4455;\n",
              "      --fill-color: #D2E3FC;\n",
              "      --hover-bg-color: #434B5C;\n",
              "      --hover-fill-color: #FFFFFF;\n",
              "      --disabled-bg-color: #3B4455;\n",
              "      --disabled-fill-color: #666;\n",
              "  }\n",
              "\n",
              "  .colab-df-quickchart {\n",
              "    background-color: var(--bg-color);\n",
              "    border: none;\n",
              "    border-radius: 50%;\n",
              "    cursor: pointer;\n",
              "    display: none;\n",
              "    fill: var(--fill-color);\n",
              "    height: 32px;\n",
              "    padding: 0;\n",
              "    width: 32px;\n",
              "  }\n",
              "\n",
              "  .colab-df-quickchart:hover {\n",
              "    background-color: var(--hover-bg-color);\n",
              "    box-shadow: 0 1px 2px rgba(60, 64, 67, 0.3), 0 1px 3px 1px rgba(60, 64, 67, 0.15);\n",
              "    fill: var(--button-hover-fill-color);\n",
              "  }\n",
              "\n",
              "  .colab-df-quickchart-complete:disabled,\n",
              "  .colab-df-quickchart-complete:disabled:hover {\n",
              "    background-color: var(--disabled-bg-color);\n",
              "    fill: var(--disabled-fill-color);\n",
              "    box-shadow: none;\n",
              "  }\n",
              "\n",
              "  .colab-df-spinner {\n",
              "    border: 2px solid var(--fill-color);\n",
              "    border-color: transparent;\n",
              "    border-bottom-color: var(--fill-color);\n",
              "    animation:\n",
              "      spin 1s steps(1) infinite;\n",
              "  }\n",
              "\n",
              "  @keyframes spin {\n",
              "    0% {\n",
              "      border-color: transparent;\n",
              "      border-bottom-color: var(--fill-color);\n",
              "      border-left-color: var(--fill-color);\n",
              "    }\n",
              "    20% {\n",
              "      border-color: transparent;\n",
              "      border-left-color: var(--fill-color);\n",
              "      border-top-color: var(--fill-color);\n",
              "    }\n",
              "    30% {\n",
              "      border-color: transparent;\n",
              "      border-left-color: var(--fill-color);\n",
              "      border-top-color: var(--fill-color);\n",
              "      border-right-color: var(--fill-color);\n",
              "    }\n",
              "    40% {\n",
              "      border-color: transparent;\n",
              "      border-right-color: var(--fill-color);\n",
              "      border-top-color: var(--fill-color);\n",
              "    }\n",
              "    60% {\n",
              "      border-color: transparent;\n",
              "      border-right-color: var(--fill-color);\n",
              "    }\n",
              "    80% {\n",
              "      border-color: transparent;\n",
              "      border-right-color: var(--fill-color);\n",
              "      border-bottom-color: var(--fill-color);\n",
              "    }\n",
              "    90% {\n",
              "      border-color: transparent;\n",
              "      border-bottom-color: var(--fill-color);\n",
              "    }\n",
              "  }\n",
              "</style>\n",
              "\n",
              "  <script>\n",
              "    async function quickchart(key) {\n",
              "      const quickchartButtonEl =\n",
              "        document.querySelector('#' + key + ' button');\n",
              "      quickchartButtonEl.disabled = true;  // To prevent multiple clicks.\n",
              "      quickchartButtonEl.classList.add('colab-df-spinner');\n",
              "      try {\n",
              "        const charts = await google.colab.kernel.invokeFunction(\n",
              "            'suggestCharts', [key], {});\n",
              "      } catch (error) {\n",
              "        console.error('Error during call to suggestCharts:', error);\n",
              "      }\n",
              "      quickchartButtonEl.classList.remove('colab-df-spinner');\n",
              "      quickchartButtonEl.classList.add('colab-df-quickchart-complete');\n",
              "    }\n",
              "    (() => {\n",
              "      let quickchartButtonEl =\n",
              "        document.querySelector('#df-715a4a66-e66b-41ed-beac-eee9f97ac86c button');\n",
              "      quickchartButtonEl.style.display =\n",
              "        google.colab.kernel.accessAllowed ? 'block' : 'none';\n",
              "    })();\n",
              "  </script>\n",
              "</div>\n",
              "\n",
              "  <div id=\"id_c6eebd85-7ea0-4b5f-8ce7-392af54f8906\">\n",
              "    <style>\n",
              "      .colab-df-generate {\n",
              "        background-color: #E8F0FE;\n",
              "        border: none;\n",
              "        border-radius: 50%;\n",
              "        cursor: pointer;\n",
              "        display: none;\n",
              "        fill: #1967D2;\n",
              "        height: 32px;\n",
              "        padding: 0 0 0 0;\n",
              "        width: 32px;\n",
              "      }\n",
              "\n",
              "      .colab-df-generate:hover {\n",
              "        background-color: #E2EBFA;\n",
              "        box-shadow: 0px 1px 2px rgba(60, 64, 67, 0.3), 0px 1px 3px 1px rgba(60, 64, 67, 0.15);\n",
              "        fill: #174EA6;\n",
              "      }\n",
              "\n",
              "      [theme=dark] .colab-df-generate {\n",
              "        background-color: #3B4455;\n",
              "        fill: #D2E3FC;\n",
              "      }\n",
              "\n",
              "      [theme=dark] .colab-df-generate:hover {\n",
              "        background-color: #434B5C;\n",
              "        box-shadow: 0px 1px 3px 1px rgba(0, 0, 0, 0.15);\n",
              "        filter: drop-shadow(0px 1px 2px rgba(0, 0, 0, 0.3));\n",
              "        fill: #FFFFFF;\n",
              "      }\n",
              "    </style>\n",
              "    <button class=\"colab-df-generate\" onclick=\"generateWithVariable('results_df')\"\n",
              "            title=\"Generate code using this dataframe.\"\n",
              "            style=\"display:none;\">\n",
              "\n",
              "  <svg xmlns=\"http://www.w3.org/2000/svg\" height=\"24px\"viewBox=\"0 0 24 24\"\n",
              "       width=\"24px\">\n",
              "    <path d=\"M7,19H8.4L18.45,9,17,7.55,7,17.6ZM5,21V16.75L18.45,3.32a2,2,0,0,1,2.83,0l1.4,1.43a1.91,1.91,0,0,1,.58,1.4,1.91,1.91,0,0,1-.58,1.4L9.25,21ZM18.45,9,17,7.55Zm-12,3A5.31,5.31,0,0,0,4.9,8.1,5.31,5.31,0,0,0,1,6.5,5.31,5.31,0,0,0,4.9,4.9,5.31,5.31,0,0,0,6.5,1,5.31,5.31,0,0,0,8.1,4.9,5.31,5.31,0,0,0,12,6.5,5.46,5.46,0,0,0,6.5,12Z\"/>\n",
              "  </svg>\n",
              "    </button>\n",
              "    <script>\n",
              "      (() => {\n",
              "      const buttonEl =\n",
              "        document.querySelector('#id_c6eebd85-7ea0-4b5f-8ce7-392af54f8906 button.colab-df-generate');\n",
              "      buttonEl.style.display =\n",
              "        google.colab.kernel.accessAllowed ? 'block' : 'none';\n",
              "\n",
              "      buttonEl.onclick = () => {\n",
              "        google.colab.notebook.generateWithVariable('results_df');\n",
              "      }\n",
              "      })();\n",
              "    </script>\n",
              "  </div>\n",
              "\n",
              "    </div>\n",
              "  </div>\n"
            ],
            "application/vnd.google.colaboratory.intrinsic+json": {
              "type": "dataframe",
              "variable_name": "results_df",
              "summary": "{\n  \"name\": \"results_df\",\n  \"rows\": 6,\n  \"fields\": [\n    {\n      \"column\": \"CV1\",\n      \"properties\": {\n        \"dtype\": \"number\",\n        \"std\": 0.001411895152255589,\n        \"min\": 0.9175038797680307,\n        \"max\": 0.9212611288082986,\n        \"num_unique_values\": 6,\n        \"samples\": [\n          0.9190557869803153,\n          0.9212611288082986,\n          0.9175038797680307\n        ],\n        \"semantic_type\": \"\",\n        \"description\": \"\"\n      }\n    },\n    {\n      \"column\": \"CV2\",\n      \"properties\": {\n        \"dtype\": \"number\",\n        \"std\": 0.00548126507269896,\n        \"min\": 0.9076206812055869,\n        \"max\": 0.921587846116148,\n        \"num_unique_values\": 6,\n        \"samples\": [\n          0.9213428081352609,\n          0.921587846116148,\n          0.9198725802499388\n        ],\n        \"semantic_type\": \"\",\n        \"description\": \"\"\n      }\n    },\n    {\n      \"column\": \"CV3\",\n      \"properties\": {\n        \"dtype\": \"number\",\n        \"std\": 0.0043086651435537806,\n        \"min\": 0.9094176263987584,\n        \"max\": 0.9211794494813362,\n        \"num_unique_values\": 6,\n        \"samples\": [\n          0.9186473903455036,\n          0.9211794494813362,\n          0.9180756350567671\n        ],\n        \"semantic_type\": \"\",\n        \"description\": \"\"\n      }\n    },\n    {\n      \"column\": \"CV4\",\n      \"properties\": {\n        \"dtype\": \"number\",\n        \"std\": 0.0012189117372836717,\n        \"min\": 0.9133382340929511,\n        \"max\": 0.9166054071714449,\n        \"num_unique_values\": 5,\n        \"samples\": [\n          0.9166054071714449,\n          0.9157069345748591,\n          0.9133382340929511\n        ],\n        \"semantic_type\": \"\",\n        \"description\": \"\"\n      }\n    },\n    {\n      \"column\": \"CV5\",\n      \"properties\": {\n        \"dtype\": \"number\",\n        \"std\": 0.0008437122606300386,\n        \"min\": 0.9170138038062566,\n        \"max\": 0.918974107653353,\n        \"num_unique_values\": 6,\n        \"samples\": [\n          0.9171771624601813,\n          0.9185657110185412,\n          0.9170138038062566\n        ],\n        \"semantic_type\": \"\",\n        \"description\": \"\"\n      }\n    },\n    {\n      \"column\": \"CV6\",\n      \"properties\": {\n        \"dtype\": \"number\",\n        \"std\": 0.0015433394472765894,\n        \"min\": 0.9139029570331645,\n        \"max\": 0.9179055709851331,\n        \"num_unique_values\": 5,\n        \"samples\": [\n          0.917252082992975,\n          0.9175788269890541,\n          0.9139029570331645\n        ],\n        \"semantic_type\": \"\",\n        \"description\": \"\"\n      }\n    }\n  ]\n}"
            }
          },
          "metadata": {},
          "execution_count": 18
        }
      ]
    },
    {
      "cell_type": "code",
      "source": [
        "results_df['CV Mean'] = results_df.iloc[:,0:n_splits].mean(axis=1)\n",
        "#Calculate the mean of the cross-validation results for each model across the columns\n",
        "#from index 0 to n_splits-1 and assign it to a new column named 'CV Mean' in the results_df DataFrame.\n",
        "results_df['CV Std Dev'] = results_df.iloc[:,0:n_splits].std(axis=1)\n",
        "#Calculate the standard deviation of the cross-validation results for each model across the columns\n",
        "#from index 0 to n_splits-1 and assign it to a new column named 'CV Std Dev' in the results_df DataFrame.\n"
      ],
      "metadata": {
        "id": "xzU2ThA58dG1"
      },
      "execution_count": 19,
      "outputs": []
    },
    {
      "cell_type": "code",
      "source": [
        "pd.set_option('display.precision',2)\n",
        "#Set the display precision option in pandas to 2 decimal places.\n",
        "results_df*100\n",
        "#Multiply all the values in the results_df DataFrame by 100"
      ],
      "metadata": {
        "colab": {
          "base_uri": "https://localhost:8080/",
          "height": 238
        },
        "id": "bcIroIOq8lo6",
        "outputId": "3df23f70-1c6d-4f73-9b6b-90d601f0dd07"
      },
      "execution_count": 20,
      "outputs": [
        {
          "output_type": "execute_result",
          "data": {
            "text/plain": [
              "        CV1    CV2    CV3    CV4    CV5    CV6  CV Mean  CV Std Dev\n",
              "LR    91.91  92.13  91.86  91.64  91.72  91.77    91.84        0.17\n",
              "RFC   92.13  92.16  92.12  91.64  91.86  91.77    91.94        0.22\n",
              "LDA   92.08  92.09  91.94  91.66  91.74  91.73    91.87        0.19\n",
              "KNN   92.04  90.76  90.94  91.33  91.71  91.39    91.36        0.47\n",
              "CART  92.07  92.12  92.06  91.61  91.90  91.79    91.92        0.20\n",
              "NB    91.75  91.99  91.81  91.57  91.70  91.76    91.76        0.14"
            ],
            "text/html": [
              "\n",
              "  <div id=\"df-7ae8aef6-9c84-49c1-aa6b-cd9a314f296e\" class=\"colab-df-container\">\n",
              "    <div>\n",
              "<style scoped>\n",
              "    .dataframe tbody tr th:only-of-type {\n",
              "        vertical-align: middle;\n",
              "    }\n",
              "\n",
              "    .dataframe tbody tr th {\n",
              "        vertical-align: top;\n",
              "    }\n",
              "\n",
              "    .dataframe thead th {\n",
              "        text-align: right;\n",
              "    }\n",
              "</style>\n",
              "<table border=\"1\" class=\"dataframe\">\n",
              "  <thead>\n",
              "    <tr style=\"text-align: right;\">\n",
              "      <th></th>\n",
              "      <th>CV1</th>\n",
              "      <th>CV2</th>\n",
              "      <th>CV3</th>\n",
              "      <th>CV4</th>\n",
              "      <th>CV5</th>\n",
              "      <th>CV6</th>\n",
              "      <th>CV Mean</th>\n",
              "      <th>CV Std Dev</th>\n",
              "    </tr>\n",
              "  </thead>\n",
              "  <tbody>\n",
              "    <tr>\n",
              "      <th>LR</th>\n",
              "      <td>91.91</td>\n",
              "      <td>92.13</td>\n",
              "      <td>91.86</td>\n",
              "      <td>91.64</td>\n",
              "      <td>91.72</td>\n",
              "      <td>91.77</td>\n",
              "      <td>91.84</td>\n",
              "      <td>0.17</td>\n",
              "    </tr>\n",
              "    <tr>\n",
              "      <th>RFC</th>\n",
              "      <td>92.13</td>\n",
              "      <td>92.16</td>\n",
              "      <td>92.12</td>\n",
              "      <td>91.64</td>\n",
              "      <td>91.86</td>\n",
              "      <td>91.77</td>\n",
              "      <td>91.94</td>\n",
              "      <td>0.22</td>\n",
              "    </tr>\n",
              "    <tr>\n",
              "      <th>LDA</th>\n",
              "      <td>92.08</td>\n",
              "      <td>92.09</td>\n",
              "      <td>91.94</td>\n",
              "      <td>91.66</td>\n",
              "      <td>91.74</td>\n",
              "      <td>91.73</td>\n",
              "      <td>91.87</td>\n",
              "      <td>0.19</td>\n",
              "    </tr>\n",
              "    <tr>\n",
              "      <th>KNN</th>\n",
              "      <td>92.04</td>\n",
              "      <td>90.76</td>\n",
              "      <td>90.94</td>\n",
              "      <td>91.33</td>\n",
              "      <td>91.71</td>\n",
              "      <td>91.39</td>\n",
              "      <td>91.36</td>\n",
              "      <td>0.47</td>\n",
              "    </tr>\n",
              "    <tr>\n",
              "      <th>CART</th>\n",
              "      <td>92.07</td>\n",
              "      <td>92.12</td>\n",
              "      <td>92.06</td>\n",
              "      <td>91.61</td>\n",
              "      <td>91.90</td>\n",
              "      <td>91.79</td>\n",
              "      <td>91.92</td>\n",
              "      <td>0.20</td>\n",
              "    </tr>\n",
              "    <tr>\n",
              "      <th>NB</th>\n",
              "      <td>91.75</td>\n",
              "      <td>91.99</td>\n",
              "      <td>91.81</td>\n",
              "      <td>91.57</td>\n",
              "      <td>91.70</td>\n",
              "      <td>91.76</td>\n",
              "      <td>91.76</td>\n",
              "      <td>0.14</td>\n",
              "    </tr>\n",
              "  </tbody>\n",
              "</table>\n",
              "</div>\n",
              "    <div class=\"colab-df-buttons\">\n",
              "\n",
              "  <div class=\"colab-df-container\">\n",
              "    <button class=\"colab-df-convert\" onclick=\"convertToInteractive('df-7ae8aef6-9c84-49c1-aa6b-cd9a314f296e')\"\n",
              "            title=\"Convert this dataframe to an interactive table.\"\n",
              "            style=\"display:none;\">\n",
              "\n",
              "  <svg xmlns=\"http://www.w3.org/2000/svg\" height=\"24px\" viewBox=\"0 -960 960 960\">\n",
              "    <path d=\"M120-120v-720h720v720H120Zm60-500h600v-160H180v160Zm220 220h160v-160H400v160Zm0 220h160v-160H400v160ZM180-400h160v-160H180v160Zm440 0h160v-160H620v160ZM180-180h160v-160H180v160Zm440 0h160v-160H620v160Z\"/>\n",
              "  </svg>\n",
              "    </button>\n",
              "\n",
              "  <style>\n",
              "    .colab-df-container {\n",
              "      display:flex;\n",
              "      gap: 12px;\n",
              "    }\n",
              "\n",
              "    .colab-df-convert {\n",
              "      background-color: #E8F0FE;\n",
              "      border: none;\n",
              "      border-radius: 50%;\n",
              "      cursor: pointer;\n",
              "      display: none;\n",
              "      fill: #1967D2;\n",
              "      height: 32px;\n",
              "      padding: 0 0 0 0;\n",
              "      width: 32px;\n",
              "    }\n",
              "\n",
              "    .colab-df-convert:hover {\n",
              "      background-color: #E2EBFA;\n",
              "      box-shadow: 0px 1px 2px rgba(60, 64, 67, 0.3), 0px 1px 3px 1px rgba(60, 64, 67, 0.15);\n",
              "      fill: #174EA6;\n",
              "    }\n",
              "\n",
              "    .colab-df-buttons div {\n",
              "      margin-bottom: 4px;\n",
              "    }\n",
              "\n",
              "    [theme=dark] .colab-df-convert {\n",
              "      background-color: #3B4455;\n",
              "      fill: #D2E3FC;\n",
              "    }\n",
              "\n",
              "    [theme=dark] .colab-df-convert:hover {\n",
              "      background-color: #434B5C;\n",
              "      box-shadow: 0px 1px 3px 1px rgba(0, 0, 0, 0.15);\n",
              "      filter: drop-shadow(0px 1px 2px rgba(0, 0, 0, 0.3));\n",
              "      fill: #FFFFFF;\n",
              "    }\n",
              "  </style>\n",
              "\n",
              "    <script>\n",
              "      const buttonEl =\n",
              "        document.querySelector('#df-7ae8aef6-9c84-49c1-aa6b-cd9a314f296e button.colab-df-convert');\n",
              "      buttonEl.style.display =\n",
              "        google.colab.kernel.accessAllowed ? 'block' : 'none';\n",
              "\n",
              "      async function convertToInteractive(key) {\n",
              "        const element = document.querySelector('#df-7ae8aef6-9c84-49c1-aa6b-cd9a314f296e');\n",
              "        const dataTable =\n",
              "          await google.colab.kernel.invokeFunction('convertToInteractive',\n",
              "                                                    [key], {});\n",
              "        if (!dataTable) return;\n",
              "\n",
              "        const docLinkHtml = 'Like what you see? Visit the ' +\n",
              "          '<a target=\"_blank\" href=https://colab.research.google.com/notebooks/data_table.ipynb>data table notebook</a>'\n",
              "          + ' to learn more about interactive tables.';\n",
              "        element.innerHTML = '';\n",
              "        dataTable['output_type'] = 'display_data';\n",
              "        await google.colab.output.renderOutput(dataTable, element);\n",
              "        const docLink = document.createElement('div');\n",
              "        docLink.innerHTML = docLinkHtml;\n",
              "        element.appendChild(docLink);\n",
              "      }\n",
              "    </script>\n",
              "  </div>\n",
              "\n",
              "\n",
              "<div id=\"df-36684378-a88c-4be3-b0fb-c221c3a1a19c\">\n",
              "  <button class=\"colab-df-quickchart\" onclick=\"quickchart('df-36684378-a88c-4be3-b0fb-c221c3a1a19c')\"\n",
              "            title=\"Suggest charts\"\n",
              "            style=\"display:none;\">\n",
              "\n",
              "<svg xmlns=\"http://www.w3.org/2000/svg\" height=\"24px\"viewBox=\"0 0 24 24\"\n",
              "     width=\"24px\">\n",
              "    <g>\n",
              "        <path d=\"M19 3H5c-1.1 0-2 .9-2 2v14c0 1.1.9 2 2 2h14c1.1 0 2-.9 2-2V5c0-1.1-.9-2-2-2zM9 17H7v-7h2v7zm4 0h-2V7h2v10zm4 0h-2v-4h2v4z\"/>\n",
              "    </g>\n",
              "</svg>\n",
              "  </button>\n",
              "\n",
              "<style>\n",
              "  .colab-df-quickchart {\n",
              "      --bg-color: #E8F0FE;\n",
              "      --fill-color: #1967D2;\n",
              "      --hover-bg-color: #E2EBFA;\n",
              "      --hover-fill-color: #174EA6;\n",
              "      --disabled-fill-color: #AAA;\n",
              "      --disabled-bg-color: #DDD;\n",
              "  }\n",
              "\n",
              "  [theme=dark] .colab-df-quickchart {\n",
              "      --bg-color: #3B4455;\n",
              "      --fill-color: #D2E3FC;\n",
              "      --hover-bg-color: #434B5C;\n",
              "      --hover-fill-color: #FFFFFF;\n",
              "      --disabled-bg-color: #3B4455;\n",
              "      --disabled-fill-color: #666;\n",
              "  }\n",
              "\n",
              "  .colab-df-quickchart {\n",
              "    background-color: var(--bg-color);\n",
              "    border: none;\n",
              "    border-radius: 50%;\n",
              "    cursor: pointer;\n",
              "    display: none;\n",
              "    fill: var(--fill-color);\n",
              "    height: 32px;\n",
              "    padding: 0;\n",
              "    width: 32px;\n",
              "  }\n",
              "\n",
              "  .colab-df-quickchart:hover {\n",
              "    background-color: var(--hover-bg-color);\n",
              "    box-shadow: 0 1px 2px rgba(60, 64, 67, 0.3), 0 1px 3px 1px rgba(60, 64, 67, 0.15);\n",
              "    fill: var(--button-hover-fill-color);\n",
              "  }\n",
              "\n",
              "  .colab-df-quickchart-complete:disabled,\n",
              "  .colab-df-quickchart-complete:disabled:hover {\n",
              "    background-color: var(--disabled-bg-color);\n",
              "    fill: var(--disabled-fill-color);\n",
              "    box-shadow: none;\n",
              "  }\n",
              "\n",
              "  .colab-df-spinner {\n",
              "    border: 2px solid var(--fill-color);\n",
              "    border-color: transparent;\n",
              "    border-bottom-color: var(--fill-color);\n",
              "    animation:\n",
              "      spin 1s steps(1) infinite;\n",
              "  }\n",
              "\n",
              "  @keyframes spin {\n",
              "    0% {\n",
              "      border-color: transparent;\n",
              "      border-bottom-color: var(--fill-color);\n",
              "      border-left-color: var(--fill-color);\n",
              "    }\n",
              "    20% {\n",
              "      border-color: transparent;\n",
              "      border-left-color: var(--fill-color);\n",
              "      border-top-color: var(--fill-color);\n",
              "    }\n",
              "    30% {\n",
              "      border-color: transparent;\n",
              "      border-left-color: var(--fill-color);\n",
              "      border-top-color: var(--fill-color);\n",
              "      border-right-color: var(--fill-color);\n",
              "    }\n",
              "    40% {\n",
              "      border-color: transparent;\n",
              "      border-right-color: var(--fill-color);\n",
              "      border-top-color: var(--fill-color);\n",
              "    }\n",
              "    60% {\n",
              "      border-color: transparent;\n",
              "      border-right-color: var(--fill-color);\n",
              "    }\n",
              "    80% {\n",
              "      border-color: transparent;\n",
              "      border-right-color: var(--fill-color);\n",
              "      border-bottom-color: var(--fill-color);\n",
              "    }\n",
              "    90% {\n",
              "      border-color: transparent;\n",
              "      border-bottom-color: var(--fill-color);\n",
              "    }\n",
              "  }\n",
              "</style>\n",
              "\n",
              "  <script>\n",
              "    async function quickchart(key) {\n",
              "      const quickchartButtonEl =\n",
              "        document.querySelector('#' + key + ' button');\n",
              "      quickchartButtonEl.disabled = true;  // To prevent multiple clicks.\n",
              "      quickchartButtonEl.classList.add('colab-df-spinner');\n",
              "      try {\n",
              "        const charts = await google.colab.kernel.invokeFunction(\n",
              "            'suggestCharts', [key], {});\n",
              "      } catch (error) {\n",
              "        console.error('Error during call to suggestCharts:', error);\n",
              "      }\n",
              "      quickchartButtonEl.classList.remove('colab-df-spinner');\n",
              "      quickchartButtonEl.classList.add('colab-df-quickchart-complete');\n",
              "    }\n",
              "    (() => {\n",
              "      let quickchartButtonEl =\n",
              "        document.querySelector('#df-36684378-a88c-4be3-b0fb-c221c3a1a19c button');\n",
              "      quickchartButtonEl.style.display =\n",
              "        google.colab.kernel.accessAllowed ? 'block' : 'none';\n",
              "    })();\n",
              "  </script>\n",
              "</div>\n",
              "\n",
              "    </div>\n",
              "  </div>\n"
            ],
            "application/vnd.google.colaboratory.intrinsic+json": {
              "type": "dataframe",
              "summary": "{\n  \"name\": \"#Multiply all the values in the results_df DataFrame by 100\",\n  \"rows\": 6,\n  \"fields\": [\n    {\n      \"column\": \"CV1\",\n      \"properties\": {\n        \"dtype\": \"number\",\n        \"std\": 0.14118951522555712,\n        \"min\": 91.75038797680307,\n        \"max\": 92.12611288082985,\n        \"num_unique_values\": 6,\n        \"samples\": [\n          91.90557869803153,\n          92.12611288082985,\n          91.75038797680307\n        ],\n        \"semantic_type\": \"\",\n        \"description\": \"\"\n      }\n    },\n    {\n      \"column\": \"CV2\",\n      \"properties\": {\n        \"dtype\": \"number\",\n        \"std\": 0.5481265072698943,\n        \"min\": 90.7620681205587,\n        \"max\": 92.15878461161479,\n        \"num_unique_values\": 6,\n        \"samples\": [\n          92.13428081352609,\n          92.15878461161479,\n          91.98725802499388\n        ],\n        \"semantic_type\": \"\",\n        \"description\": \"\"\n      }\n    },\n    {\n      \"column\": \"CV3\",\n      \"properties\": {\n        \"dtype\": \"number\",\n        \"std\": 0.43086651435537815,\n        \"min\": 90.94176263987585,\n        \"max\": 92.11794494813363,\n        \"num_unique_values\": 6,\n        \"samples\": [\n          91.86473903455035,\n          92.11794494813363,\n          91.80756350567671\n        ],\n        \"semantic_type\": \"\",\n        \"description\": \"\"\n      }\n    },\n    {\n      \"column\": \"CV4\",\n      \"properties\": {\n        \"dtype\": \"number\",\n        \"std\": 0.12189117372836805,\n        \"min\": 91.3338234092951,\n        \"max\": 91.66054071714449,\n        \"num_unique_values\": 5,\n        \"samples\": [\n          91.66054071714449,\n          91.5706934574859,\n          91.3338234092951\n        ],\n        \"semantic_type\": \"\",\n        \"description\": \"\"\n      }\n    },\n    {\n      \"column\": \"CV5\",\n      \"properties\": {\n        \"dtype\": \"number\",\n        \"std\": 0.08437122606300457,\n        \"min\": 91.70138038062566,\n        \"max\": 91.8974107653353,\n        \"num_unique_values\": 6,\n        \"samples\": [\n          91.71771624601813,\n          91.85657110185413,\n          91.70138038062566\n        ],\n        \"semantic_type\": \"\",\n        \"description\": \"\"\n      }\n    },\n    {\n      \"column\": \"CV6\",\n      \"properties\": {\n        \"dtype\": \"number\",\n        \"std\": 0.1543339447276574,\n        \"min\": 91.39029570331645,\n        \"max\": 91.79055709851332,\n        \"num_unique_values\": 5,\n        \"samples\": [\n          91.7252082992975,\n          91.75788269890542,\n          91.39029570331645\n        ],\n        \"semantic_type\": \"\",\n        \"description\": \"\"\n      }\n    },\n    {\n      \"column\": \"CV Mean\",\n      \"properties\": {\n        \"dtype\": \"number\",\n        \"std\": 0.21607604214206516,\n        \"min\": 91.36365529003925,\n        \"max\": 91.94494506003292,\n        \"num_unique_values\": 6,\n        \"samples\": [\n          91.83876193498187,\n          91.94494506003292,\n          91.76252767408177\n        ],\n        \"semantic_type\": \"\",\n        \"description\": \"\"\n      }\n    },\n    {\n      \"column\": \"CV Std Dev\",\n      \"properties\": {\n        \"dtype\": \"number\",\n        \"std\": 0.12207446898725037,\n        \"min\": 0.13655787267447497,\n        \"max\": 0.47425756958228393,\n        \"num_unique_values\": 6,\n        \"samples\": [\n          0.17457712476014678,\n          0.21948091996845495,\n          0.13655787267447497\n        ],\n        \"semantic_type\": \"\",\n        \"description\": \"\"\n      }\n    }\n  ]\n}"
            }
          },
          "metadata": {},
          "execution_count": 20
        }
      ]
    },
    {
      "cell_type": "markdown",
      "source": [
        "#Checking Accuracy Of Algorithms using Scaled Data Inputs"
      ],
      "metadata": {
        "id": "NmCg9RJ380Yb"
      }
    },
    {
      "cell_type": "code",
      "source": [
        "pipelines = [] #Create an empty list called pipelines.\n",
        "pipelines.append(('ScaledLR', Pipeline([('Scaler', StandardScaler()),('LR', LogisticRegression())])))\n",
        "pipelines.append(('ScaledRFC', Pipeline([('Scaler', StandardScaler()),('RFC', RandomForestClassifier())])))\n",
        "pipelines.append(('ScaledLDA', Pipeline([('Scaler', StandardScaler()),('LDA', LinearDiscriminantAnalysis())])))\n",
        "pipelines.append(('ScaledKNN', Pipeline([('Scaler', StandardScaler()),('KNN', KNeighborsClassifier())])))\n",
        "pipelines.append(('ScaledCART', Pipeline([('Scaler', StandardScaler()),('CART', DecisionTreeClassifier())])))\n",
        "pipelines.append(('ScaledNB', Pipeline([('Scaler', StandardScaler()),('NB', GaussianNB())])))\n",
        "# Appends a tuple to the pipelines list\n",
        "results = []\n",
        "names = []\n",
        "#Create empty lists called results and names.\n",
        "\n",
        "for name, model in pipelines: #Iterate over each tuple in the pipelines list, unpacking the name and model.\n",
        "    kfold = model_selection.KFold(n_splits=6, shuffle=True, random_state=6)\n",
        "    #Create a KFold cross-validation object with 6 splits, shuffling the data, and setting the random state to 6.\n",
        "    cv_results = model_selection.cross_val_score(model, X_train, y_train, cv=kfold, scoring='accuracy')\n",
        "    #Perform cross-validation by calling the cross_val_score() function with the\n",
        "    #current model, training data (X_train and y_train), the KFold object, and using accuracy as the scoring metric.\n",
        "    #Store the results in the cv_results variable\n",
        "    results.append(cv_results)\n",
        "    names.append(name)\n",
        "    #Append the cv_results to the results list and the name to the names list.\n",
        "    msg = \"%s: %f (%f)\" % (name, cv_results.mean()*100, cv_results.std()*100)\n",
        "    #Create a formatted string msg that includes the\n",
        "    #name, mean accuracy (multiplied by 100), and standard deviation (multiplied by 100) of the cross-validation results.\n",
        "\n",
        "results_df = pd.DataFrame(results, index=names, \\\n",
        "                          columns='CV1 CV2 CV3 CV4 CV5 CV6'.split())\n",
        "#Create a DataFrame called results_df using the results list as the data, names list as the index,\n",
        "#and the column names as 'CV1', 'CV2', 'CV3', 'CV4', 'CV5', and 'CV6'.\n",
        "results_df['CV Mean'] = results_df.iloc[:,0:n_splits].mean(axis=1)\n",
        "results_df['CV Std Dev'] = results_df.iloc[:,0:n_splits].std(axis=1)\n",
        "results_df.sort_values(by='CV Mean', ascending=False)*100\n",
        "# Sort the results_df DataFrame by the 'CV Mean' column in descending order and multiply all the values by 100."
      ],
      "metadata": {
        "id": "1bvVPlNf83jz",
        "colab": {
          "base_uri": "https://localhost:8080/",
          "height": 238
        },
        "outputId": "0614c926-fb34-478c-8a42-a45046df5648"
      },
      "execution_count": 21,
      "outputs": [
        {
          "output_type": "execute_result",
          "data": {
            "text/plain": [
              "              CV1    CV2    CV3    CV4    CV5    CV6  CV Mean  CV Std Dev\n",
              "ScaledRFC   92.10  92.18  92.18  91.64  91.81  91.79    91.95        0.23\n",
              "ScaledCART  92.07  92.12  92.06  91.61  91.90  91.79    91.92        0.20\n",
              "ScaledLDA   92.08  92.09  91.94  91.66  91.74  91.73    91.87        0.19\n",
              "ScaledLR    91.91  92.11  91.86  91.64  91.72  91.77    91.83        0.17\n",
              "ScaledNB    91.75  91.99  91.81  91.57  91.70  91.76    91.76        0.14\n",
              "ScaledKNN   91.20  91.77  91.01  90.54  91.71  91.82    91.34        0.52"
            ],
            "text/html": [
              "\n",
              "  <div id=\"df-71273ee8-7d38-4fcf-a20d-b267081b42cf\" class=\"colab-df-container\">\n",
              "    <div>\n",
              "<style scoped>\n",
              "    .dataframe tbody tr th:only-of-type {\n",
              "        vertical-align: middle;\n",
              "    }\n",
              "\n",
              "    .dataframe tbody tr th {\n",
              "        vertical-align: top;\n",
              "    }\n",
              "\n",
              "    .dataframe thead th {\n",
              "        text-align: right;\n",
              "    }\n",
              "</style>\n",
              "<table border=\"1\" class=\"dataframe\">\n",
              "  <thead>\n",
              "    <tr style=\"text-align: right;\">\n",
              "      <th></th>\n",
              "      <th>CV1</th>\n",
              "      <th>CV2</th>\n",
              "      <th>CV3</th>\n",
              "      <th>CV4</th>\n",
              "      <th>CV5</th>\n",
              "      <th>CV6</th>\n",
              "      <th>CV Mean</th>\n",
              "      <th>CV Std Dev</th>\n",
              "    </tr>\n",
              "  </thead>\n",
              "  <tbody>\n",
              "    <tr>\n",
              "      <th>ScaledRFC</th>\n",
              "      <td>92.10</td>\n",
              "      <td>92.18</td>\n",
              "      <td>92.18</td>\n",
              "      <td>91.64</td>\n",
              "      <td>91.81</td>\n",
              "      <td>91.79</td>\n",
              "      <td>91.95</td>\n",
              "      <td>0.23</td>\n",
              "    </tr>\n",
              "    <tr>\n",
              "      <th>ScaledCART</th>\n",
              "      <td>92.07</td>\n",
              "      <td>92.12</td>\n",
              "      <td>92.06</td>\n",
              "      <td>91.61</td>\n",
              "      <td>91.90</td>\n",
              "      <td>91.79</td>\n",
              "      <td>91.92</td>\n",
              "      <td>0.20</td>\n",
              "    </tr>\n",
              "    <tr>\n",
              "      <th>ScaledLDA</th>\n",
              "      <td>92.08</td>\n",
              "      <td>92.09</td>\n",
              "      <td>91.94</td>\n",
              "      <td>91.66</td>\n",
              "      <td>91.74</td>\n",
              "      <td>91.73</td>\n",
              "      <td>91.87</td>\n",
              "      <td>0.19</td>\n",
              "    </tr>\n",
              "    <tr>\n",
              "      <th>ScaledLR</th>\n",
              "      <td>91.91</td>\n",
              "      <td>92.11</td>\n",
              "      <td>91.86</td>\n",
              "      <td>91.64</td>\n",
              "      <td>91.72</td>\n",
              "      <td>91.77</td>\n",
              "      <td>91.83</td>\n",
              "      <td>0.17</td>\n",
              "    </tr>\n",
              "    <tr>\n",
              "      <th>ScaledNB</th>\n",
              "      <td>91.75</td>\n",
              "      <td>91.99</td>\n",
              "      <td>91.81</td>\n",
              "      <td>91.57</td>\n",
              "      <td>91.70</td>\n",
              "      <td>91.76</td>\n",
              "      <td>91.76</td>\n",
              "      <td>0.14</td>\n",
              "    </tr>\n",
              "    <tr>\n",
              "      <th>ScaledKNN</th>\n",
              "      <td>91.20</td>\n",
              "      <td>91.77</td>\n",
              "      <td>91.01</td>\n",
              "      <td>90.54</td>\n",
              "      <td>91.71</td>\n",
              "      <td>91.82</td>\n",
              "      <td>91.34</td>\n",
              "      <td>0.52</td>\n",
              "    </tr>\n",
              "  </tbody>\n",
              "</table>\n",
              "</div>\n",
              "    <div class=\"colab-df-buttons\">\n",
              "\n",
              "  <div class=\"colab-df-container\">\n",
              "    <button class=\"colab-df-convert\" onclick=\"convertToInteractive('df-71273ee8-7d38-4fcf-a20d-b267081b42cf')\"\n",
              "            title=\"Convert this dataframe to an interactive table.\"\n",
              "            style=\"display:none;\">\n",
              "\n",
              "  <svg xmlns=\"http://www.w3.org/2000/svg\" height=\"24px\" viewBox=\"0 -960 960 960\">\n",
              "    <path d=\"M120-120v-720h720v720H120Zm60-500h600v-160H180v160Zm220 220h160v-160H400v160Zm0 220h160v-160H400v160ZM180-400h160v-160H180v160Zm440 0h160v-160H620v160ZM180-180h160v-160H180v160Zm440 0h160v-160H620v160Z\"/>\n",
              "  </svg>\n",
              "    </button>\n",
              "\n",
              "  <style>\n",
              "    .colab-df-container {\n",
              "      display:flex;\n",
              "      gap: 12px;\n",
              "    }\n",
              "\n",
              "    .colab-df-convert {\n",
              "      background-color: #E8F0FE;\n",
              "      border: none;\n",
              "      border-radius: 50%;\n",
              "      cursor: pointer;\n",
              "      display: none;\n",
              "      fill: #1967D2;\n",
              "      height: 32px;\n",
              "      padding: 0 0 0 0;\n",
              "      width: 32px;\n",
              "    }\n",
              "\n",
              "    .colab-df-convert:hover {\n",
              "      background-color: #E2EBFA;\n",
              "      box-shadow: 0px 1px 2px rgba(60, 64, 67, 0.3), 0px 1px 3px 1px rgba(60, 64, 67, 0.15);\n",
              "      fill: #174EA6;\n",
              "    }\n",
              "\n",
              "    .colab-df-buttons div {\n",
              "      margin-bottom: 4px;\n",
              "    }\n",
              "\n",
              "    [theme=dark] .colab-df-convert {\n",
              "      background-color: #3B4455;\n",
              "      fill: #D2E3FC;\n",
              "    }\n",
              "\n",
              "    [theme=dark] .colab-df-convert:hover {\n",
              "      background-color: #434B5C;\n",
              "      box-shadow: 0px 1px 3px 1px rgba(0, 0, 0, 0.15);\n",
              "      filter: drop-shadow(0px 1px 2px rgba(0, 0, 0, 0.3));\n",
              "      fill: #FFFFFF;\n",
              "    }\n",
              "  </style>\n",
              "\n",
              "    <script>\n",
              "      const buttonEl =\n",
              "        document.querySelector('#df-71273ee8-7d38-4fcf-a20d-b267081b42cf button.colab-df-convert');\n",
              "      buttonEl.style.display =\n",
              "        google.colab.kernel.accessAllowed ? 'block' : 'none';\n",
              "\n",
              "      async function convertToInteractive(key) {\n",
              "        const element = document.querySelector('#df-71273ee8-7d38-4fcf-a20d-b267081b42cf');\n",
              "        const dataTable =\n",
              "          await google.colab.kernel.invokeFunction('convertToInteractive',\n",
              "                                                    [key], {});\n",
              "        if (!dataTable) return;\n",
              "\n",
              "        const docLinkHtml = 'Like what you see? Visit the ' +\n",
              "          '<a target=\"_blank\" href=https://colab.research.google.com/notebooks/data_table.ipynb>data table notebook</a>'\n",
              "          + ' to learn more about interactive tables.';\n",
              "        element.innerHTML = '';\n",
              "        dataTable['output_type'] = 'display_data';\n",
              "        await google.colab.output.renderOutput(dataTable, element);\n",
              "        const docLink = document.createElement('div');\n",
              "        docLink.innerHTML = docLinkHtml;\n",
              "        element.appendChild(docLink);\n",
              "      }\n",
              "    </script>\n",
              "  </div>\n",
              "\n",
              "\n",
              "<div id=\"df-a6bd81c4-982c-415d-ae0b-4253760e3d7e\">\n",
              "  <button class=\"colab-df-quickchart\" onclick=\"quickchart('df-a6bd81c4-982c-415d-ae0b-4253760e3d7e')\"\n",
              "            title=\"Suggest charts\"\n",
              "            style=\"display:none;\">\n",
              "\n",
              "<svg xmlns=\"http://www.w3.org/2000/svg\" height=\"24px\"viewBox=\"0 0 24 24\"\n",
              "     width=\"24px\">\n",
              "    <g>\n",
              "        <path d=\"M19 3H5c-1.1 0-2 .9-2 2v14c0 1.1.9 2 2 2h14c1.1 0 2-.9 2-2V5c0-1.1-.9-2-2-2zM9 17H7v-7h2v7zm4 0h-2V7h2v10zm4 0h-2v-4h2v4z\"/>\n",
              "    </g>\n",
              "</svg>\n",
              "  </button>\n",
              "\n",
              "<style>\n",
              "  .colab-df-quickchart {\n",
              "      --bg-color: #E8F0FE;\n",
              "      --fill-color: #1967D2;\n",
              "      --hover-bg-color: #E2EBFA;\n",
              "      --hover-fill-color: #174EA6;\n",
              "      --disabled-fill-color: #AAA;\n",
              "      --disabled-bg-color: #DDD;\n",
              "  }\n",
              "\n",
              "  [theme=dark] .colab-df-quickchart {\n",
              "      --bg-color: #3B4455;\n",
              "      --fill-color: #D2E3FC;\n",
              "      --hover-bg-color: #434B5C;\n",
              "      --hover-fill-color: #FFFFFF;\n",
              "      --disabled-bg-color: #3B4455;\n",
              "      --disabled-fill-color: #666;\n",
              "  }\n",
              "\n",
              "  .colab-df-quickchart {\n",
              "    background-color: var(--bg-color);\n",
              "    border: none;\n",
              "    border-radius: 50%;\n",
              "    cursor: pointer;\n",
              "    display: none;\n",
              "    fill: var(--fill-color);\n",
              "    height: 32px;\n",
              "    padding: 0;\n",
              "    width: 32px;\n",
              "  }\n",
              "\n",
              "  .colab-df-quickchart:hover {\n",
              "    background-color: var(--hover-bg-color);\n",
              "    box-shadow: 0 1px 2px rgba(60, 64, 67, 0.3), 0 1px 3px 1px rgba(60, 64, 67, 0.15);\n",
              "    fill: var(--button-hover-fill-color);\n",
              "  }\n",
              "\n",
              "  .colab-df-quickchart-complete:disabled,\n",
              "  .colab-df-quickchart-complete:disabled:hover {\n",
              "    background-color: var(--disabled-bg-color);\n",
              "    fill: var(--disabled-fill-color);\n",
              "    box-shadow: none;\n",
              "  }\n",
              "\n",
              "  .colab-df-spinner {\n",
              "    border: 2px solid var(--fill-color);\n",
              "    border-color: transparent;\n",
              "    border-bottom-color: var(--fill-color);\n",
              "    animation:\n",
              "      spin 1s steps(1) infinite;\n",
              "  }\n",
              "\n",
              "  @keyframes spin {\n",
              "    0% {\n",
              "      border-color: transparent;\n",
              "      border-bottom-color: var(--fill-color);\n",
              "      border-left-color: var(--fill-color);\n",
              "    }\n",
              "    20% {\n",
              "      border-color: transparent;\n",
              "      border-left-color: var(--fill-color);\n",
              "      border-top-color: var(--fill-color);\n",
              "    }\n",
              "    30% {\n",
              "      border-color: transparent;\n",
              "      border-left-color: var(--fill-color);\n",
              "      border-top-color: var(--fill-color);\n",
              "      border-right-color: var(--fill-color);\n",
              "    }\n",
              "    40% {\n",
              "      border-color: transparent;\n",
              "      border-right-color: var(--fill-color);\n",
              "      border-top-color: var(--fill-color);\n",
              "    }\n",
              "    60% {\n",
              "      border-color: transparent;\n",
              "      border-right-color: var(--fill-color);\n",
              "    }\n",
              "    80% {\n",
              "      border-color: transparent;\n",
              "      border-right-color: var(--fill-color);\n",
              "      border-bottom-color: var(--fill-color);\n",
              "    }\n",
              "    90% {\n",
              "      border-color: transparent;\n",
              "      border-bottom-color: var(--fill-color);\n",
              "    }\n",
              "  }\n",
              "</style>\n",
              "\n",
              "  <script>\n",
              "    async function quickchart(key) {\n",
              "      const quickchartButtonEl =\n",
              "        document.querySelector('#' + key + ' button');\n",
              "      quickchartButtonEl.disabled = true;  // To prevent multiple clicks.\n",
              "      quickchartButtonEl.classList.add('colab-df-spinner');\n",
              "      try {\n",
              "        const charts = await google.colab.kernel.invokeFunction(\n",
              "            'suggestCharts', [key], {});\n",
              "      } catch (error) {\n",
              "        console.error('Error during call to suggestCharts:', error);\n",
              "      }\n",
              "      quickchartButtonEl.classList.remove('colab-df-spinner');\n",
              "      quickchartButtonEl.classList.add('colab-df-quickchart-complete');\n",
              "    }\n",
              "    (() => {\n",
              "      let quickchartButtonEl =\n",
              "        document.querySelector('#df-a6bd81c4-982c-415d-ae0b-4253760e3d7e button');\n",
              "      quickchartButtonEl.style.display =\n",
              "        google.colab.kernel.accessAllowed ? 'block' : 'none';\n",
              "    })();\n",
              "  </script>\n",
              "</div>\n",
              "\n",
              "    </div>\n",
              "  </div>\n"
            ],
            "application/vnd.google.colaboratory.intrinsic+json": {
              "type": "dataframe",
              "summary": "{\n  \"name\": \"# Sort the results_df DataFrame by the 'CV Mean' column in descending order and multiply all the values by 100\",\n  \"rows\": 6,\n  \"fields\": [\n    {\n      \"column\": \"CV1\",\n      \"properties\": {\n        \"dtype\": \"number\",\n        \"std\": 0.3447474010244245,\n        \"min\": 91.20313648615536,\n        \"max\": 92.10160908274115,\n        \"num_unique_values\": 6,\n        \"samples\": [\n          92.10160908274115,\n          92.06893735195621,\n          91.20313648615536\n        ],\n        \"semantic_type\": \"\",\n        \"description\": \"\"\n      }\n    },\n    {\n      \"column\": \"CV2\",\n      \"properties\": {\n        \"dtype\": \"number\",\n        \"std\": 0.1444285138160569,\n        \"min\": 91.77489177489177,\n        \"max\": 92.17512047700727,\n        \"num_unique_values\": 6,\n        \"samples\": [\n          92.17512047700727,\n          92.11794494813363,\n          91.77489177489177\n        ],\n        \"semantic_type\": \"\",\n        \"description\": \"\"\n      }\n    },\n    {\n      \"column\": \"CV3\",\n      \"properties\": {\n        \"dtype\": \"number\",\n        \"std\": 0.41479643480380396,\n        \"min\": 91.00710610144573,\n        \"max\": 92.17512047700727,\n        \"num_unique_values\": 6,\n        \"samples\": [\n          92.17512047700727,\n          92.06076941925998,\n          91.00710610144573\n        ],\n        \"semantic_type\": \"\",\n        \"description\": \"\"\n      }\n    },\n    {\n      \"column\": \"CV4\",\n      \"properties\": {\n        \"dtype\": \"number\",\n        \"std\": 0.4432637062223176,\n        \"min\": 90.54153393776035,\n        \"max\": 91.66054071714449,\n        \"num_unique_values\": 6,\n        \"samples\": [\n          91.64420485175202,\n          91.61153312096708,\n          90.54153393776035\n        ],\n        \"semantic_type\": \"\",\n        \"description\": \"\"\n      }\n    },\n    {\n      \"column\": \"CV5\",\n      \"properties\": {\n        \"dtype\": \"number\",\n        \"std\": 0.07640401426884644,\n        \"min\": 91.70138038062566,\n        \"max\": 91.8974107653353,\n        \"num_unique_values\": 6,\n        \"samples\": [\n          91.80756350567671,\n          91.8974107653353,\n          91.7095483133219\n        ],\n        \"semantic_type\": \"\",\n        \"description\": \"\"\n      }\n    },\n    {\n      \"column\": \"CV6\",\n      \"properties\": {\n        \"dtype\": \"number\",\n        \"std\": 0.033348169454653034,\n        \"min\": 91.7252082992975,\n        \"max\": 91.82323149812123,\n        \"num_unique_values\": 5,\n        \"samples\": [\n          91.7252082992975,\n          91.82323149812123,\n          91.77421989870936\n        ],\n        \"semantic_type\": \"\",\n        \"description\": \"\"\n      }\n    },\n    {\n      \"column\": \"CV Mean\",\n      \"properties\": {\n        \"dtype\": \"number\",\n        \"std\": 0.2244400331914189,\n        \"min\": 91.34324135194939,\n        \"max\": 91.94902924878296,\n        \"num_unique_values\": 6,\n        \"samples\": [\n          91.94902924878296,\n          91.92452545069426,\n          91.34324135194939\n        ],\n        \"semantic_type\": \"\",\n        \"description\": \"\"\n      }\n    },\n    {\n      \"column\": \"CV Std Dev\",\n      \"properties\": {\n        \"dtype\": \"number\",\n        \"std\": 0.13894325549988204,\n        \"min\": 0.13655787267447497,\n        \"max\": 0.5150231987035845,\n        \"num_unique_values\": 6,\n        \"samples\": [\n          0.2295904983223931,\n          0.19671057023076602,\n          0.5150231987035845\n        ],\n        \"semantic_type\": \"\",\n        \"description\": \"\"\n      }\n    }\n  ]\n}"
            }
          },
          "metadata": {},
          "execution_count": 21
        }
      ]
    },
    {
      "cell_type": "markdown",
      "source": [
        "###As Most Accuracy of 91.95 +- .23 was achieved by RandomForestClassifier()\n",
        "#####Selecting RFC() for Training and Testing Purposes"
      ],
      "metadata": {
        "id": "TTPNMsmN9QO8"
      }
    },
    {
      "cell_type": "markdown",
      "source": [
        "#Preparing and Training the Model"
      ],
      "metadata": {
        "id": "ZP5o_Zis9aQo"
      }
    },
    {
      "cell_type": "code",
      "source": [
        "model = RandomForestClassifier()\n",
        "#creates an instance of the Random Forest Classifier model"
      ],
      "metadata": {
        "id": "02btMBNe9Vvk"
      },
      "execution_count": 22,
      "outputs": []
    },
    {
      "cell_type": "code",
      "source": [
        "# Training the model\n",
        "model.fit(X_train,y_train)"
      ],
      "metadata": {
        "colab": {
          "base_uri": "https://localhost:8080/",
          "height": 75
        },
        "id": "CYghLCjt9hIu",
        "outputId": "7609493e-44ec-44a8-f08b-6c7f707d1daa"
      },
      "execution_count": 23,
      "outputs": [
        {
          "output_type": "execute_result",
          "data": {
            "text/plain": [
              "RandomForestClassifier()"
            ],
            "text/html": [
              "<style>#sk-container-id-1 {color: black;background-color: white;}#sk-container-id-1 pre{padding: 0;}#sk-container-id-1 div.sk-toggleable {background-color: white;}#sk-container-id-1 label.sk-toggleable__label {cursor: pointer;display: block;width: 100%;margin-bottom: 0;padding: 0.3em;box-sizing: border-box;text-align: center;}#sk-container-id-1 label.sk-toggleable__label-arrow:before {content: \"▸\";float: left;margin-right: 0.25em;color: #696969;}#sk-container-id-1 label.sk-toggleable__label-arrow:hover:before {color: black;}#sk-container-id-1 div.sk-estimator:hover label.sk-toggleable__label-arrow:before {color: black;}#sk-container-id-1 div.sk-toggleable__content {max-height: 0;max-width: 0;overflow: hidden;text-align: left;background-color: #f0f8ff;}#sk-container-id-1 div.sk-toggleable__content pre {margin: 0.2em;color: black;border-radius: 0.25em;background-color: #f0f8ff;}#sk-container-id-1 input.sk-toggleable__control:checked~div.sk-toggleable__content {max-height: 200px;max-width: 100%;overflow: auto;}#sk-container-id-1 input.sk-toggleable__control:checked~label.sk-toggleable__label-arrow:before {content: \"▾\";}#sk-container-id-1 div.sk-estimator input.sk-toggleable__control:checked~label.sk-toggleable__label {background-color: #d4ebff;}#sk-container-id-1 div.sk-label input.sk-toggleable__control:checked~label.sk-toggleable__label {background-color: #d4ebff;}#sk-container-id-1 input.sk-hidden--visually {border: 0;clip: rect(1px 1px 1px 1px);clip: rect(1px, 1px, 1px, 1px);height: 1px;margin: -1px;overflow: hidden;padding: 0;position: absolute;width: 1px;}#sk-container-id-1 div.sk-estimator {font-family: monospace;background-color: #f0f8ff;border: 1px dotted black;border-radius: 0.25em;box-sizing: border-box;margin-bottom: 0.5em;}#sk-container-id-1 div.sk-estimator:hover {background-color: #d4ebff;}#sk-container-id-1 div.sk-parallel-item::after {content: \"\";width: 100%;border-bottom: 1px solid gray;flex-grow: 1;}#sk-container-id-1 div.sk-label:hover label.sk-toggleable__label {background-color: #d4ebff;}#sk-container-id-1 div.sk-serial::before {content: \"\";position: absolute;border-left: 1px solid gray;box-sizing: border-box;top: 0;bottom: 0;left: 50%;z-index: 0;}#sk-container-id-1 div.sk-serial {display: flex;flex-direction: column;align-items: center;background-color: white;padding-right: 0.2em;padding-left: 0.2em;position: relative;}#sk-container-id-1 div.sk-item {position: relative;z-index: 1;}#sk-container-id-1 div.sk-parallel {display: flex;align-items: stretch;justify-content: center;background-color: white;position: relative;}#sk-container-id-1 div.sk-item::before, #sk-container-id-1 div.sk-parallel-item::before {content: \"\";position: absolute;border-left: 1px solid gray;box-sizing: border-box;top: 0;bottom: 0;left: 50%;z-index: -1;}#sk-container-id-1 div.sk-parallel-item {display: flex;flex-direction: column;z-index: 1;position: relative;background-color: white;}#sk-container-id-1 div.sk-parallel-item:first-child::after {align-self: flex-end;width: 50%;}#sk-container-id-1 div.sk-parallel-item:last-child::after {align-self: flex-start;width: 50%;}#sk-container-id-1 div.sk-parallel-item:only-child::after {width: 0;}#sk-container-id-1 div.sk-dashed-wrapped {border: 1px dashed gray;margin: 0 0.4em 0.5em 0.4em;box-sizing: border-box;padding-bottom: 0.4em;background-color: white;}#sk-container-id-1 div.sk-label label {font-family: monospace;font-weight: bold;display: inline-block;line-height: 1.2em;}#sk-container-id-1 div.sk-label-container {text-align: center;}#sk-container-id-1 div.sk-container {/* jupyter's `normalize.less` sets `[hidden] { display: none; }` but bootstrap.min.css set `[hidden] { display: none !important; }` so we also need the `!important` here to be able to override the default hidden behavior on the sphinx rendered scikit-learn.org. See: https://github.com/scikit-learn/scikit-learn/issues/21755 */display: inline-block !important;position: relative;}#sk-container-id-1 div.sk-text-repr-fallback {display: none;}</style><div id=\"sk-container-id-1\" class=\"sk-top-container\"><div class=\"sk-text-repr-fallback\"><pre>RandomForestClassifier()</pre><b>In a Jupyter environment, please rerun this cell to show the HTML representation or trust the notebook. <br />On GitHub, the HTML representation is unable to render, please try loading this page with nbviewer.org.</b></div><div class=\"sk-container\" hidden><div class=\"sk-item\"><div class=\"sk-estimator sk-toggleable\"><input class=\"sk-toggleable__control sk-hidden--visually\" id=\"sk-estimator-id-1\" type=\"checkbox\" checked><label for=\"sk-estimator-id-1\" class=\"sk-toggleable__label sk-toggleable__label-arrow\">RandomForestClassifier</label><div class=\"sk-toggleable__content\"><pre>RandomForestClassifier()</pre></div></div></div></div></div>"
            ]
          },
          "metadata": {},
          "execution_count": 23
        }
      ]
    },
    {
      "cell_type": "markdown",
      "source": [
        "#Testing the Model"
      ],
      "metadata": {
        "id": "B-aeu7_D9s6I"
      }
    },
    {
      "cell_type": "code",
      "source": [
        "train = train.drop('SeriousDlqin2yrs', axis=1)\n",
        "predictions = model.predict(train)\n",
        "#used to make predictions using a trained machine learning model on the training data X_train"
      ],
      "metadata": {
        "id": "VCbbWX2C9qpE"
      },
      "execution_count": 24,
      "outputs": []
    },
    {
      "cell_type": "code",
      "source": [
        "predictions = predictions[:y_train.shape[0]]"
      ],
      "metadata": {
        "id": "QgLiD3ySHnE0"
      },
      "execution_count": 25,
      "outputs": []
    },
    {
      "cell_type": "code",
      "source": [
        "print(classification_report(y_train,predictions))\n",
        "#print the classification report for a classification model."
      ],
      "metadata": {
        "colab": {
          "base_uri": "https://localhost:8080/"
        },
        "id": "gFrr84bM9zGN",
        "outputId": "031f6361-4659-45b3-df29-5eb0fa116369"
      },
      "execution_count": 26,
      "outputs": [
        {
          "output_type": "stream",
          "name": "stdout",
          "text": [
            "              precision    recall  f1-score   support\n",
            "\n",
            "           0       0.92      0.98      0.95     67406\n",
            "           1       0.08      0.02      0.03      6051\n",
            "\n",
            "    accuracy                           0.90     73457\n",
            "   macro avg       0.50      0.50      0.49     73457\n",
            "weighted avg       0.85      0.90      0.87     73457\n",
            "\n"
          ]
        }
      ]
    },
    {
      "cell_type": "code",
      "source": [
        "matrix = confusion_matrix(y_train,predictions) #To calculate the confusion matrix for a classification model\n",
        "print(matrix) #to print the confusion matrix."
      ],
      "metadata": {
        "colab": {
          "base_uri": "https://localhost:8080/"
        },
        "id": "Ph-uepaG931W",
        "outputId": "13406763-12a0-4665-c41d-233745b56478"
      },
      "execution_count": 27,
      "outputs": [
        {
          "output_type": "stream",
          "name": "stdout",
          "text": [
            "[[66012  1394]\n",
            " [ 5934   117]]\n"
          ]
        }
      ]
    },
    {
      "cell_type": "markdown",
      "source": [
        "#####Here the first column in the confusion matrix indicates the no. of correct predictions and the second column indicates that the no. of incorrect predictions."
      ],
      "metadata": {
        "id": "FyzwEkIp962D"
      }
    },
    {
      "cell_type": "code",
      "source": [
        "model.score(X_train, y_train)\n",
        "#to calculate the accuracy score of a trained machine learning model on the training data X_train and corresponding target labels y_train"
      ],
      "metadata": {
        "colab": {
          "base_uri": "https://localhost:8080/"
        },
        "id": "7Wasq6yW9-e4",
        "outputId": "fda63fa7-be7b-4d2b-9564-df77ccf04885"
      },
      "execution_count": 28,
      "outputs": [
        {
          "output_type": "execute_result",
          "data": {
            "text/plain": [
              "0.9230434131532733"
            ]
          },
          "metadata": {},
          "execution_count": 28
        }
      ]
    },
    {
      "cell_type": "code",
      "source": [
        "df = pd.DataFrame(y_train)\n",
        "df['Predicted'] = predictions\n",
        "# to create a new pandas DataFrame df that combines the original\n",
        "#target labels y_train with the predicted values predictions"
      ],
      "metadata": {
        "id": "qouHD-2u-BxC"
      },
      "execution_count": 29,
      "outputs": []
    },
    {
      "cell_type": "code",
      "source": [
        "print(df)\n",
        "#prints df"
      ],
      "metadata": {
        "colab": {
          "base_uri": "https://localhost:8080/"
        },
        "id": "DHqV52L0-EHR",
        "outputId": "0e6a3902-70f0-49dd-b878-5c380c74fa51"
      },
      "execution_count": 30,
      "outputs": [
        {
          "output_type": "stream",
          "name": "stdout",
          "text": [
            "        SeriousDlqin2yrs  Predicted\n",
            "101632                 1          0\n",
            "139099                 0          0\n",
            "17200                  0          0\n",
            "99735                  0          0\n",
            "59397                  0          0\n",
            "...                  ...        ...\n",
            "8102                   0          0\n",
            "105025                 0          0\n",
            "118960                 1          0\n",
            "119214                 0          0\n",
            "65345                  0          0\n",
            "\n",
            "[73457 rows x 2 columns]\n"
          ]
        }
      ]
    },
    {
      "cell_type": "code",
      "source": [
        "df['Predicted'].value_counts()\n",
        "#to count the occurrences of each unique value in the 'Predicted' column of a pandas DataFrame df"
      ],
      "metadata": {
        "colab": {
          "base_uri": "https://localhost:8080/"
        },
        "id": "Fh_CxUkM_6ld",
        "outputId": "96c6ad91-a88b-4e1e-dfef-d9d6c235f7f7"
      },
      "execution_count": 31,
      "outputs": [
        {
          "output_type": "execute_result",
          "data": {
            "text/plain": [
              "Predicted\n",
              "0    71946\n",
              "1     1511\n",
              "Name: count, dtype: int64"
            ]
          },
          "metadata": {},
          "execution_count": 31
        }
      ]
    },
    {
      "cell_type": "code",
      "source": [
        "tester = pd.read_csv('/cs-test.csv', index_col = 0) #reads the csv file.\n",
        "tester['MonthlyIncome'].fillna(tester['MonthlyIncome'].mean(), inplace = True)\n",
        "#fills the missing values in the 'MonthlyIncome' column of the 'tester' DataFrame with the mean value of the column.\n",
        "tester['NumberOfDependents'].fillna(tester['NumberOfDependents'].median(), inplace=True)\n",
        "# fills the missing values in the 'NumberOfDependents' column of the 'tester' DataFrame with the median value of the column.\n",
        "test_data = tester.drop('SeriousDlqin2yrs', axis = 1)\n",
        "#creates a new DataFrame named 'test_data' by dropping the 'SeriousDlqin2yrs' column from the 'tester' DataFrame along the column axis.\n",
        "tester['MonthlyIncome'].fillna(tester['MonthlyIncome'].mean(), inplace = True)\n",
        "tester['NumberOfDependents'].fillna(tester['NumberOfDependents'].median(), inplace=True)\n",
        "test_data = tester.drop('SeriousDlqin2yrs', axis = 1)\n",
        "#creates a new DataFrame named 'test_data' by dropping the 'SeriousDlqin2yrs' column from the 'tester' DataFrame along the column axis."
      ],
      "metadata": {
        "id": "phPlGWNnALHh"
      },
      "execution_count": 33,
      "outputs": []
    },
    {
      "cell_type": "code",
      "source": [
        "train.columns\n",
        "#returns the list of column names in the DataFrame train."
      ],
      "metadata": {
        "colab": {
          "base_uri": "https://localhost:8080/"
        },
        "id": "ttfQiVx8Wc0h",
        "outputId": "bf052e81-3a83-4ad7-a934-eceb3d538911"
      },
      "execution_count": 34,
      "outputs": [
        {
          "output_type": "execute_result",
          "data": {
            "text/plain": [
              "Index(['NumberOfTime30-59DaysPastDueNotWorse',\n",
              "       'NumberOfTime60-89DaysPastDueNotWorse', 'NumberOfTimes90DaysLate'],\n",
              "      dtype='object')"
            ]
          },
          "metadata": {},
          "execution_count": 34
        }
      ]
    },
    {
      "cell_type": "code",
      "source": [
        "test_data = test_data[['NumberOfTime30-59DaysPastDueNotWorse', 'NumberOfTime60-89DaysPastDueNotWorse', 'NumberOfTimes90DaysLate']]\n",
        "test_data.columns\n",
        "# returns the list of column names in the DataFrame test_data."
      ],
      "metadata": {
        "colab": {
          "base_uri": "https://localhost:8080/"
        },
        "id": "_9Y3JWcZWetW",
        "outputId": "723cf6f2-6195-405b-c0f5-3b64d94b8893"
      },
      "execution_count": 35,
      "outputs": [
        {
          "output_type": "execute_result",
          "data": {
            "text/plain": [
              "Index(['NumberOfTime30-59DaysPastDueNotWorse',\n",
              "       'NumberOfTime60-89DaysPastDueNotWorse', 'NumberOfTimes90DaysLate'],\n",
              "      dtype='object')"
            ]
          },
          "metadata": {},
          "execution_count": 35
        }
      ]
    },
    {
      "cell_type": "code",
      "source": [
        "preds=model.predict(test_data)\n",
        "#uses a trained model to make predictions on the test_data DataFrame."
      ],
      "metadata": {
        "id": "1g42qFh0ATSu"
      },
      "execution_count": 36,
      "outputs": []
    },
    {
      "cell_type": "code",
      "source": [
        "y = pd.DataFrame(preds)\n",
        "# creates a new pandas DataFrame named 'y' using the predictions stored in the 'preds' variable."
      ],
      "metadata": {
        "id": "aa-pORikW_Nh"
      },
      "execution_count": 37,
      "outputs": []
    },
    {
      "cell_type": "code",
      "source": [
        "y\n",
        "# refers to the DataFrame that was created using the predictions stored in the 'preds' variable."
      ],
      "metadata": {
        "colab": {
          "base_uri": "https://localhost:8080/",
          "height": 424
        },
        "id": "Jj6cBVf2XQ8v",
        "outputId": "8985bb2d-a1fc-4807-aeb0-e01a51a287c8"
      },
      "execution_count": 38,
      "outputs": [
        {
          "output_type": "execute_result",
          "data": {
            "text/plain": [
              "        0\n",
              "0       0\n",
              "1       0\n",
              "2       0\n",
              "3       0\n",
              "4       0\n",
              "...    ..\n",
              "101498  0\n",
              "101499  0\n",
              "101500  0\n",
              "101501  0\n",
              "101502  0\n",
              "\n",
              "[101503 rows x 1 columns]"
            ],
            "text/html": [
              "\n",
              "  <div id=\"df-50f38c38-1b52-44d3-9855-b2d4bb7c88f7\" class=\"colab-df-container\">\n",
              "    <div>\n",
              "<style scoped>\n",
              "    .dataframe tbody tr th:only-of-type {\n",
              "        vertical-align: middle;\n",
              "    }\n",
              "\n",
              "    .dataframe tbody tr th {\n",
              "        vertical-align: top;\n",
              "    }\n",
              "\n",
              "    .dataframe thead th {\n",
              "        text-align: right;\n",
              "    }\n",
              "</style>\n",
              "<table border=\"1\" class=\"dataframe\">\n",
              "  <thead>\n",
              "    <tr style=\"text-align: right;\">\n",
              "      <th></th>\n",
              "      <th>0</th>\n",
              "    </tr>\n",
              "  </thead>\n",
              "  <tbody>\n",
              "    <tr>\n",
              "      <th>0</th>\n",
              "      <td>0</td>\n",
              "    </tr>\n",
              "    <tr>\n",
              "      <th>1</th>\n",
              "      <td>0</td>\n",
              "    </tr>\n",
              "    <tr>\n",
              "      <th>2</th>\n",
              "      <td>0</td>\n",
              "    </tr>\n",
              "    <tr>\n",
              "      <th>3</th>\n",
              "      <td>0</td>\n",
              "    </tr>\n",
              "    <tr>\n",
              "      <th>4</th>\n",
              "      <td>0</td>\n",
              "    </tr>\n",
              "    <tr>\n",
              "      <th>...</th>\n",
              "      <td>...</td>\n",
              "    </tr>\n",
              "    <tr>\n",
              "      <th>101498</th>\n",
              "      <td>0</td>\n",
              "    </tr>\n",
              "    <tr>\n",
              "      <th>101499</th>\n",
              "      <td>0</td>\n",
              "    </tr>\n",
              "    <tr>\n",
              "      <th>101500</th>\n",
              "      <td>0</td>\n",
              "    </tr>\n",
              "    <tr>\n",
              "      <th>101501</th>\n",
              "      <td>0</td>\n",
              "    </tr>\n",
              "    <tr>\n",
              "      <th>101502</th>\n",
              "      <td>0</td>\n",
              "    </tr>\n",
              "  </tbody>\n",
              "</table>\n",
              "<p>101503 rows × 1 columns</p>\n",
              "</div>\n",
              "    <div class=\"colab-df-buttons\">\n",
              "\n",
              "  <div class=\"colab-df-container\">\n",
              "    <button class=\"colab-df-convert\" onclick=\"convertToInteractive('df-50f38c38-1b52-44d3-9855-b2d4bb7c88f7')\"\n",
              "            title=\"Convert this dataframe to an interactive table.\"\n",
              "            style=\"display:none;\">\n",
              "\n",
              "  <svg xmlns=\"http://www.w3.org/2000/svg\" height=\"24px\" viewBox=\"0 -960 960 960\">\n",
              "    <path d=\"M120-120v-720h720v720H120Zm60-500h600v-160H180v160Zm220 220h160v-160H400v160Zm0 220h160v-160H400v160ZM180-400h160v-160H180v160Zm440 0h160v-160H620v160ZM180-180h160v-160H180v160Zm440 0h160v-160H620v160Z\"/>\n",
              "  </svg>\n",
              "    </button>\n",
              "\n",
              "  <style>\n",
              "    .colab-df-container {\n",
              "      display:flex;\n",
              "      gap: 12px;\n",
              "    }\n",
              "\n",
              "    .colab-df-convert {\n",
              "      background-color: #E8F0FE;\n",
              "      border: none;\n",
              "      border-radius: 50%;\n",
              "      cursor: pointer;\n",
              "      display: none;\n",
              "      fill: #1967D2;\n",
              "      height: 32px;\n",
              "      padding: 0 0 0 0;\n",
              "      width: 32px;\n",
              "    }\n",
              "\n",
              "    .colab-df-convert:hover {\n",
              "      background-color: #E2EBFA;\n",
              "      box-shadow: 0px 1px 2px rgba(60, 64, 67, 0.3), 0px 1px 3px 1px rgba(60, 64, 67, 0.15);\n",
              "      fill: #174EA6;\n",
              "    }\n",
              "\n",
              "    .colab-df-buttons div {\n",
              "      margin-bottom: 4px;\n",
              "    }\n",
              "\n",
              "    [theme=dark] .colab-df-convert {\n",
              "      background-color: #3B4455;\n",
              "      fill: #D2E3FC;\n",
              "    }\n",
              "\n",
              "    [theme=dark] .colab-df-convert:hover {\n",
              "      background-color: #434B5C;\n",
              "      box-shadow: 0px 1px 3px 1px rgba(0, 0, 0, 0.15);\n",
              "      filter: drop-shadow(0px 1px 2px rgba(0, 0, 0, 0.3));\n",
              "      fill: #FFFFFF;\n",
              "    }\n",
              "  </style>\n",
              "\n",
              "    <script>\n",
              "      const buttonEl =\n",
              "        document.querySelector('#df-50f38c38-1b52-44d3-9855-b2d4bb7c88f7 button.colab-df-convert');\n",
              "      buttonEl.style.display =\n",
              "        google.colab.kernel.accessAllowed ? 'block' : 'none';\n",
              "\n",
              "      async function convertToInteractive(key) {\n",
              "        const element = document.querySelector('#df-50f38c38-1b52-44d3-9855-b2d4bb7c88f7');\n",
              "        const dataTable =\n",
              "          await google.colab.kernel.invokeFunction('convertToInteractive',\n",
              "                                                    [key], {});\n",
              "        if (!dataTable) return;\n",
              "\n",
              "        const docLinkHtml = 'Like what you see? Visit the ' +\n",
              "          '<a target=\"_blank\" href=https://colab.research.google.com/notebooks/data_table.ipynb>data table notebook</a>'\n",
              "          + ' to learn more about interactive tables.';\n",
              "        element.innerHTML = '';\n",
              "        dataTable['output_type'] = 'display_data';\n",
              "        await google.colab.output.renderOutput(dataTable, element);\n",
              "        const docLink = document.createElement('div');\n",
              "        docLink.innerHTML = docLinkHtml;\n",
              "        element.appendChild(docLink);\n",
              "      }\n",
              "    </script>\n",
              "  </div>\n",
              "\n",
              "\n",
              "<div id=\"df-0679eb47-f27d-4ae2-b539-01ae55851469\">\n",
              "  <button class=\"colab-df-quickchart\" onclick=\"quickchart('df-0679eb47-f27d-4ae2-b539-01ae55851469')\"\n",
              "            title=\"Suggest charts\"\n",
              "            style=\"display:none;\">\n",
              "\n",
              "<svg xmlns=\"http://www.w3.org/2000/svg\" height=\"24px\"viewBox=\"0 0 24 24\"\n",
              "     width=\"24px\">\n",
              "    <g>\n",
              "        <path d=\"M19 3H5c-1.1 0-2 .9-2 2v14c0 1.1.9 2 2 2h14c1.1 0 2-.9 2-2V5c0-1.1-.9-2-2-2zM9 17H7v-7h2v7zm4 0h-2V7h2v10zm4 0h-2v-4h2v4z\"/>\n",
              "    </g>\n",
              "</svg>\n",
              "  </button>\n",
              "\n",
              "<style>\n",
              "  .colab-df-quickchart {\n",
              "      --bg-color: #E8F0FE;\n",
              "      --fill-color: #1967D2;\n",
              "      --hover-bg-color: #E2EBFA;\n",
              "      --hover-fill-color: #174EA6;\n",
              "      --disabled-fill-color: #AAA;\n",
              "      --disabled-bg-color: #DDD;\n",
              "  }\n",
              "\n",
              "  [theme=dark] .colab-df-quickchart {\n",
              "      --bg-color: #3B4455;\n",
              "      --fill-color: #D2E3FC;\n",
              "      --hover-bg-color: #434B5C;\n",
              "      --hover-fill-color: #FFFFFF;\n",
              "      --disabled-bg-color: #3B4455;\n",
              "      --disabled-fill-color: #666;\n",
              "  }\n",
              "\n",
              "  .colab-df-quickchart {\n",
              "    background-color: var(--bg-color);\n",
              "    border: none;\n",
              "    border-radius: 50%;\n",
              "    cursor: pointer;\n",
              "    display: none;\n",
              "    fill: var(--fill-color);\n",
              "    height: 32px;\n",
              "    padding: 0;\n",
              "    width: 32px;\n",
              "  }\n",
              "\n",
              "  .colab-df-quickchart:hover {\n",
              "    background-color: var(--hover-bg-color);\n",
              "    box-shadow: 0 1px 2px rgba(60, 64, 67, 0.3), 0 1px 3px 1px rgba(60, 64, 67, 0.15);\n",
              "    fill: var(--button-hover-fill-color);\n",
              "  }\n",
              "\n",
              "  .colab-df-quickchart-complete:disabled,\n",
              "  .colab-df-quickchart-complete:disabled:hover {\n",
              "    background-color: var(--disabled-bg-color);\n",
              "    fill: var(--disabled-fill-color);\n",
              "    box-shadow: none;\n",
              "  }\n",
              "\n",
              "  .colab-df-spinner {\n",
              "    border: 2px solid var(--fill-color);\n",
              "    border-color: transparent;\n",
              "    border-bottom-color: var(--fill-color);\n",
              "    animation:\n",
              "      spin 1s steps(1) infinite;\n",
              "  }\n",
              "\n",
              "  @keyframes spin {\n",
              "    0% {\n",
              "      border-color: transparent;\n",
              "      border-bottom-color: var(--fill-color);\n",
              "      border-left-color: var(--fill-color);\n",
              "    }\n",
              "    20% {\n",
              "      border-color: transparent;\n",
              "      border-left-color: var(--fill-color);\n",
              "      border-top-color: var(--fill-color);\n",
              "    }\n",
              "    30% {\n",
              "      border-color: transparent;\n",
              "      border-left-color: var(--fill-color);\n",
              "      border-top-color: var(--fill-color);\n",
              "      border-right-color: var(--fill-color);\n",
              "    }\n",
              "    40% {\n",
              "      border-color: transparent;\n",
              "      border-right-color: var(--fill-color);\n",
              "      border-top-color: var(--fill-color);\n",
              "    }\n",
              "    60% {\n",
              "      border-color: transparent;\n",
              "      border-right-color: var(--fill-color);\n",
              "    }\n",
              "    80% {\n",
              "      border-color: transparent;\n",
              "      border-right-color: var(--fill-color);\n",
              "      border-bottom-color: var(--fill-color);\n",
              "    }\n",
              "    90% {\n",
              "      border-color: transparent;\n",
              "      border-bottom-color: var(--fill-color);\n",
              "    }\n",
              "  }\n",
              "</style>\n",
              "\n",
              "  <script>\n",
              "    async function quickchart(key) {\n",
              "      const quickchartButtonEl =\n",
              "        document.querySelector('#' + key + ' button');\n",
              "      quickchartButtonEl.disabled = true;  // To prevent multiple clicks.\n",
              "      quickchartButtonEl.classList.add('colab-df-spinner');\n",
              "      try {\n",
              "        const charts = await google.colab.kernel.invokeFunction(\n",
              "            'suggestCharts', [key], {});\n",
              "      } catch (error) {\n",
              "        console.error('Error during call to suggestCharts:', error);\n",
              "      }\n",
              "      quickchartButtonEl.classList.remove('colab-df-spinner');\n",
              "      quickchartButtonEl.classList.add('colab-df-quickchart-complete');\n",
              "    }\n",
              "    (() => {\n",
              "      let quickchartButtonEl =\n",
              "        document.querySelector('#df-0679eb47-f27d-4ae2-b539-01ae55851469 button');\n",
              "      quickchartButtonEl.style.display =\n",
              "        google.colab.kernel.accessAllowed ? 'block' : 'none';\n",
              "    })();\n",
              "  </script>\n",
              "</div>\n",
              "\n",
              "  <div id=\"id_071c5f1b-6221-474f-9e94-6e909573ca78\">\n",
              "    <style>\n",
              "      .colab-df-generate {\n",
              "        background-color: #E8F0FE;\n",
              "        border: none;\n",
              "        border-radius: 50%;\n",
              "        cursor: pointer;\n",
              "        display: none;\n",
              "        fill: #1967D2;\n",
              "        height: 32px;\n",
              "        padding: 0 0 0 0;\n",
              "        width: 32px;\n",
              "      }\n",
              "\n",
              "      .colab-df-generate:hover {\n",
              "        background-color: #E2EBFA;\n",
              "        box-shadow: 0px 1px 2px rgba(60, 64, 67, 0.3), 0px 1px 3px 1px rgba(60, 64, 67, 0.15);\n",
              "        fill: #174EA6;\n",
              "      }\n",
              "\n",
              "      [theme=dark] .colab-df-generate {\n",
              "        background-color: #3B4455;\n",
              "        fill: #D2E3FC;\n",
              "      }\n",
              "\n",
              "      [theme=dark] .colab-df-generate:hover {\n",
              "        background-color: #434B5C;\n",
              "        box-shadow: 0px 1px 3px 1px rgba(0, 0, 0, 0.15);\n",
              "        filter: drop-shadow(0px 1px 2px rgba(0, 0, 0, 0.3));\n",
              "        fill: #FFFFFF;\n",
              "      }\n",
              "    </style>\n",
              "    <button class=\"colab-df-generate\" onclick=\"generateWithVariable('y')\"\n",
              "            title=\"Generate code using this dataframe.\"\n",
              "            style=\"display:none;\">\n",
              "\n",
              "  <svg xmlns=\"http://www.w3.org/2000/svg\" height=\"24px\"viewBox=\"0 0 24 24\"\n",
              "       width=\"24px\">\n",
              "    <path d=\"M7,19H8.4L18.45,9,17,7.55,7,17.6ZM5,21V16.75L18.45,3.32a2,2,0,0,1,2.83,0l1.4,1.43a1.91,1.91,0,0,1,.58,1.4,1.91,1.91,0,0,1-.58,1.4L9.25,21ZM18.45,9,17,7.55Zm-12,3A5.31,5.31,0,0,0,4.9,8.1,5.31,5.31,0,0,0,1,6.5,5.31,5.31,0,0,0,4.9,4.9,5.31,5.31,0,0,0,6.5,1,5.31,5.31,0,0,0,8.1,4.9,5.31,5.31,0,0,0,12,6.5,5.46,5.46,0,0,0,6.5,12Z\"/>\n",
              "  </svg>\n",
              "    </button>\n",
              "    <script>\n",
              "      (() => {\n",
              "      const buttonEl =\n",
              "        document.querySelector('#id_071c5f1b-6221-474f-9e94-6e909573ca78 button.colab-df-generate');\n",
              "      buttonEl.style.display =\n",
              "        google.colab.kernel.accessAllowed ? 'block' : 'none';\n",
              "\n",
              "      buttonEl.onclick = () => {\n",
              "        google.colab.notebook.generateWithVariable('y');\n",
              "      }\n",
              "      })();\n",
              "    </script>\n",
              "  </div>\n",
              "\n",
              "    </div>\n",
              "  </div>\n"
            ],
            "application/vnd.google.colaboratory.intrinsic+json": {
              "type": "dataframe",
              "variable_name": "y"
            }
          },
          "metadata": {},
          "execution_count": 38
        }
      ]
    },
    {
      "cell_type": "code",
      "source": [
        "y.value_counts()\n",
        "#used to count the occurrences of unique values in the 'y' DataFrame"
      ],
      "metadata": {
        "colab": {
          "base_uri": "https://localhost:8080/"
        },
        "id": "SuGqJkAFXO46",
        "outputId": "04030a52-4d52-4947-d03e-60aae114a74d"
      },
      "execution_count": 39,
      "outputs": [
        {
          "output_type": "execute_result",
          "data": {
            "text/plain": [
              "0    99913\n",
              "1     1590\n",
              "Name: count, dtype: int64"
            ]
          },
          "metadata": {},
          "execution_count": 39
        }
      ]
    },
    {
      "cell_type": "code",
      "source": [
        "probabilities = model.predict_proba(X_train)[:, 1]\n",
        "#calculates the predicted probabilities for a specific class (class 1) using the predict_proba() method of the trained model."
      ],
      "metadata": {
        "id": "TVMY5rCuZR9A"
      },
      "execution_count": 40,
      "outputs": []
    },
    {
      "cell_type": "code",
      "source": [
        "test_df = test_data.copy()\n",
        "#creates a new DataFrame named 'test_df' that is a copy of the 'test_data' DataFrame."
      ],
      "metadata": {
        "id": "lVMNTBQqZ4tP"
      },
      "execution_count": 41,
      "outputs": []
    },
    {
      "cell_type": "code",
      "source": [
        "from sklearn.utils import resample\n",
        "#This line uses the resample() function from the sklearn.utils module to resample the probabilities array\n",
        "probabilities = resample(probabilities, n_samples=test_data.shape[0], random_state=0)\n",
        "test_df['Probability of Default'] = probabilities\n",
        "#This line adds a new column named 'Probability of Default' to the 'test_df' DataFrame and assigns the resampled probabilities array to that column"
      ],
      "metadata": {
        "id": "gFJPOgEGX7-W"
      },
      "execution_count": 42,
      "outputs": []
    },
    {
      "cell_type": "code",
      "source": [
        "print(test_df['Probability of Default'])\n",
        "#prints the probability of default"
      ],
      "metadata": {
        "id": "r2LkRu45X96k",
        "colab": {
          "base_uri": "https://localhost:8080/"
        },
        "outputId": "08d74e20-656e-46dd-bf26-dce0cc6a42d6"
      },
      "execution_count": 43,
      "outputs": [
        {
          "output_type": "stream",
          "name": "stdout",
          "text": [
            "1         0.03\n",
            "2         0.03\n",
            "3         0.03\n",
            "4         0.03\n",
            "5         0.03\n",
            "          ... \n",
            "101499    0.03\n",
            "101500    0.03\n",
            "101501    0.03\n",
            "101502    0.24\n",
            "101503    0.03\n",
            "Name: Probability of Default, Length: 101503, dtype: float64\n"
          ]
        }
      ]
    },
    {
      "cell_type": "code",
      "source": [
        "#adding the data frame obtained into a new CSV file with only 2 columns, ID and probability\n",
        "test_df[['Probability of Default']].to_csv('results.csv', index_label='id')\n"
      ],
      "metadata": {
        "id": "RAttHNIooV__"
      },
      "execution_count": 47,
      "outputs": []
    }
  ]
}